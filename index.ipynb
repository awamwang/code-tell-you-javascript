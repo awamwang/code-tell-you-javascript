{
 "cells": [
  {
   "cell_type": "code",
   "execution_count": 2,
   "metadata": {},
   "outputs": [],
   "source": [
    "let show = function(...args) {\n",
    "  console.log(...args)\n",
    "}"
   ]
  },
  {
   "cell_type": "code",
   "execution_count": 3,
   "metadata": {},
   "outputs": [
    {
     "output_type": "execute_result",
     "data": {
      "text/plain": "{ show: [Function: show] }"
     },
     "metadata": {},
     "execution_count": 3
    }
   ],
   "source": [
    "module.exports = {\n",
    "  show\n",
    "}\n"
   ]
  }
 ],
 "metadata": {
  "language_info": {
   "codemirror_mode": {
    "name": "ipython",
    "version": 3
   },
   "file_extension": ".py",
   "mimetype": "text/x-python",
   "name": "python",
   "nbconvert_exporter": "python",
   "pygments_lexer": "ipython3",
   "version": "3.7.1-final"
  },
  "orig_nbformat": 2,
  "kernelspec": {
   "name": "javascript",
   "display_name": "Javascript (Node.js)"
  }
 },
 "nbformat": 4,
 "nbformat_minor": 2
}