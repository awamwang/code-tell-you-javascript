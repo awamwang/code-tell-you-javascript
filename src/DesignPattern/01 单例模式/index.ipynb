{
 "cells": [
  {
   "cell_type": "markdown",
   "metadata": {},
   "source": [
    "## 惰性单例"
   ]
  },
  {
   "cell_type": "code",
   "execution_count": 5,
   "metadata": {
    "tags": []
   },
   "outputs": [
    {
     "output_type": "stream",
     "name": "stdout",
     "text": "实例1 Single { a: 2 } true\n实例2 Single { a: 2 } true\n"
    }
   ],
   "source": [
    "var LazySingle = (function() {\n",
    "  var _instance = null\n",
    "\n",
    "  function Single() {\n",
    "    this.a = 1\n",
    "  }\n",
    "  Single.prototype.func1 = function() {\n",
    "    return 'run func1'\n",
    "  }\n",
    "\n",
    "  return function() {\n",
    "    if (!_instance) {\n",
    "      _instance = new Single()\n",
    "    }\n",
    "\n",
    "    return _instance\n",
    "  }\n",
    "})()\n",
    "\n",
    "var s1 = LazySingle()\n",
    "s1.a = 2\n",
    "console.log('实例1', s1, s1.a === 2)\n",
    "var s2 = LazySingle()\n",
    "console.log('实例2', s2, s1.a === 2)\n"
   ]
  },
  {
   "cell_type": "code",
   "execution_count": null,
   "metadata": {},
   "outputs": [],
   "source": []
  }
 ],
 "metadata": {
  "kernelspec": {
   "display_name": "Javascript (Node.js)",
   "language": "javascript",
   "name": "javascript"
  },
  "language_info": {
   "file_extension": ".js",
   "mimetype": "application/javascript",
   "name": "javascript",
   "version": "3.7.1-final"
  }
 },
 "nbformat": 4,
 "nbformat_minor": 4
}