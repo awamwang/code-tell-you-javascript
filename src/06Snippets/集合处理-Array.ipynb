{
 "cells": [
  {
   "cell_type": "markdown",
   "metadata": {},
   "source": [
    "## 数组扁平化"
   ]
  },
  {
   "cell_type": "code",
   "execution_count": 3,
   "metadata": {},
   "outputs": [
    {
     "name": "stdout",
     "output_type": "stream",
     "text": [
      "结果: [ 1, 2, 3 ]\n"
     ]
    }
   ],
   "source": [
    "var { displayRes } = require('utils')\n",
    "\n",
    "function deepFlatten(arr) {\n",
    "  return arr.reduce((res, item, i) => {\n",
    "    return res.concat(Array.isArray(item) ? deepFlatten(item) : item)\n",
    "  }, [])\n",
    "}\n",
    "\n",
    "displayRes(deepFlatten([[1, 2], [[3]]]))"
   ]
  },
  {
   "cell_type": "markdown",
   "metadata": {},
   "source": [
    "## 过滤掉数组中的非唯一值"
   ]
  },
  {
   "cell_type": "code",
   "execution_count": 4,
   "metadata": {},
   "outputs": [
    {
     "name": "stdout",
     "output_type": "stream",
     "text": [
      "结果: [ 2, 3 ]\n"
     ]
    }
   ],
   "source": [
    "var { displayRes } = require('utils')\n",
    "\n",
    "var filterNonUnique = arr => arr.filter(i => arr.indexOf(i) === arr.lastIndexOf(i))\n",
    "\n",
    "displayRes(filterNonUnique([1, 2, 1, 3]))"
   ]
  },
  {
   "cell_type": "markdown",
   "metadata": {},
   "source": [
    "## 获取数组的组合"
   ]
  },
  {
   "cell_type": "code",
   "execution_count": 5,
   "metadata": {},
   "outputs": [
    {
     "name": "stdout",
     "output_type": "stream",
     "text": [
      "结果: [\n",
      "  [],       [ 1 ],\n",
      "  [ 2 ],    [ 2, 1 ],\n",
      "  [ 3 ],    [ 3, 1 ],\n",
      "  [ 3, 2 ], [ 3, 2, 1 ]\n",
      "]\n"
     ]
    }
   ],
   "source": [
    "var { displayRes } = require('utils')\n",
    "\n",
    "var powerset = arr =>\n",
    "  arr.reduce((a, v) => a.concat(a.map(r => [v].concat(r))), [[]])\n",
    "  \n",
    "displayRes(powerset([1, 2, 3]))"
   ]
  },
  {
   "cell_type": "markdown",
   "metadata": {},
   "source": [
    "## 数组分裂"
   ]
  },
  {
   "cell_type": "code",
   "execution_count": 5,
   "metadata": {},
   "outputs": [
    {
     "name": "stdout",
     "output_type": "stream",
     "text": [
      "结果: [ [ 1, 2, 4 ], [ 1, 3, 4 ] ]\n",
      "结果: [ [ 1, 2, 4 ], [ 1, 3, 4 ] ]\n"
     ]
    }
   ],
   "source": [
    "var { displayRes, identity } = require('utils')\n",
    "\n",
    "function splitArray(arr, head = [], parseElement = identity) {\n",
    "  let len = arr.length,\n",
    "    curr\n",
    "\n",
    "  head = [...(head || [])]\n",
    "\n",
    "  for (let idx = 0; idx < len; idx++) {\n",
    "    if (Array.isArray((curr = parseElement(arr[idx])))) {\n",
    "      return curr.reduce((res, e) => {\n",
    "        return res.concat(\n",
    "          splitArray([e].concat(arr.slice(idx + 1)), head, parseElement)\n",
    "        )\n",
    "      }, [])\n",
    "    } else {\n",
    "      head.push(curr)\n",
    "    }\n",
    "  }\n",
    "\n",
    "\n",
    "  return [head]\n",
    "}\n",
    "\n",
    "displayRes(splitArray([1, [2, 3], 4]))\n",
    "displayRes(splitArray([1, {val1: 2, val2: 3}, 4], null, (ele) => (typeof ele === 'object' ? Object.values(ele) : ele)))"
   ]
  },
  {
   "cell_type": "markdown",
   "metadata": {},
   "source": [
    "## 全排列"
   ]
  },
  {
   "cell_type": "code",
   "execution_count": 6,
   "metadata": {},
   "outputs": [
    {
     "name": "stdout",
     "output_type": "stream",
     "text": [
      "结果: [\n",
      "  [ 1, 2 ], [ 1, 3 ],\n",
      "  [ 1, 1 ], [ 1, 2 ],\n",
      "  [ 2, 3 ], [ 2, 1 ],\n",
      "  [ 2, 2 ], [ 3, 1 ],\n",
      "  [ 3, 2 ], [ 1, 2 ]\n",
      "]\n",
      "结果: [\n",
      "  [ 1, 2 ], [ 1, 3 ],\n",
      "  [ 1, 1 ], [ 2, 3 ],\n",
      "  [ 2, 1 ], [ 2, 2 ],\n",
      "  [ 3, 1 ], [ 3, 2 ],\n",
      "  [ 1, 2 ]\n",
      "]\n"
     ]
    }
   ],
   "source": [
    "var { displayRes } = require('utils')\n",
    "\n",
    "function getPowerSet(arr, n) {\n",
    "  if (n <= 1) {\n",
    "    return arr.map(c => [c])\n",
    "  }\n",
    "  return arr.reduce((res, curr, i) => res.concat(getPowerSet(arr.slice(i + 1), n - 1).map(r => [curr].concat(r))), [])\n",
    "}\n",
    "\n",
    "function getNoDupPowerSet(arr, n) {\n",
    "  if (n <= 1) {\n",
    "    return Array.from(new Set(arr)).map(c => [c])\n",
    "  }\n",
    "  return arr.reduce((res, curr, i) => {\n",
    "    if (curr === arr[i - 1]) {\n",
    "      return res.concat(getNoDupPowerSet(arr.slice(i + 1), n - 1))\n",
    "    } else {\n",
    "      return res.concat(getNoDupPowerSet(arr.slice(i + 1), n - 1).map(r => [curr].concat(r)))\n",
    "    }\n",
    "  }, [])\n",
    "}\n",
    "\n",
    "displayRes(getPowerSet([1, 2, 3, 1, 2], 2))\n",
    "displayRes(getNoDupPowerSet([1, 2, 3, 1, 2], 2))"
   ]
  },
  {
   "cell_type": "markdown",
   "metadata": {},
   "source": [
    "## 简单版的shuffle"
   ]
  },
  {
   "cell_type": "code",
   "execution_count": 6,
   "metadata": {},
   "outputs": [
    {
     "name": "stdout",
     "output_type": "stream",
     "text": [
      "结果: [ 1, 5, 2, 3, 4 ]\n"
     ]
    }
   ],
   "source": [
    "var { displayRes } = require('utils')\n",
    "\n",
    "var shuffle = arr => arr.sort(() => Math.random() - 0.5)\n",
    "\n",
    "displayRes(shuffle([1, 2, 3, 4, 5]))"
   ]
  }
 ],
 "metadata": {
  "kernelspec": {
   "display_name": "Javascript (Node.js)",
   "language": "javascript",
   "name": "javascript"
  },
  "language_info": {
   "file_extension": ".js",
   "mimetype": "application/javascript",
   "name": "javascript",
   "version": "12.18.1"
  },
  "toc-autonumbering": true,
  "toc-showcode": false,
  "toc-showmarkdowntxt": true,
  "toc-showtags": false
 },
 "nbformat": 4,
 "nbformat_minor": 4
}
