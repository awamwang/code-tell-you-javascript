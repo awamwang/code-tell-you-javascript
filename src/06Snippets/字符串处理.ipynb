{
 "cells": [
  {
   "cell_type": "markdown",
   "metadata": {},
   "source": [
    "## 解构赋值+正则 提取字符串中各个部分"
   ]
  },
  {
   "cell_type": "code",
   "execution_count": 2,
   "metadata": {},
   "outputs": [
    {
     "output_type": "error",
     "ename": "Error",
     "evalue": "Cannot find module 'utils'\nRequire stack:\n- C:\\Users\\Awam M Wang\\AppData\\Local\\Temp\\7a619ce1-a1a6-4175-a9ae-107cc029eec0\\[eval]",
     "traceback": [
      "internal/modules/cjs/loader.js:797",
      "    throw err;",
      "    ^",
      "",
      "Error: Cannot find module 'utils'",
      "Require stack:",
      "- C:\\Users\\Awam M Wang\\AppData\\Local\\Temp\\7a619ce1-a1a6-4175-a9ae-107cc029eec0\\[eval]",
      "    at Function.Module._resolveFilename (internal/modules/cjs/loader.js:794:15)",
      "    at Function.Module._load (internal/modules/cjs/loader.js:687:27)",
      "    at Module.require (internal/modules/cjs/loader.js:849:19)",
      "    at require (internal/modules/cjs/helpers.js:74:18)",
      "    at evalmachine.<anonymous>:1:22",
      "    at Script.runInThisContext (vm.js:116:20)",
      "    at Object.runInThisContext (vm.js:306:38)",
      "    at run ([eval]:1054:15)",
      "    at onRunRequest ([eval]:888:18)",
      "    at onMessage ([eval]:848:13)"
     ]
    }
   ],
   "source": [
    "var { displayRes } = require('utils')\n",
    "\n",
    "var url = \"https://developer.mozilla.org/en-US/Web/JavaScript\";\n",
    "\n",
    "var parsedURL = /^(\\w+)\\:\\/\\/([^\\/]+)\\/(.*)$/.exec(url);\n",
    "console.log(parsedURL); // [\"https://developer.mozilla.org/en-US/Web/JavaScript\", \"https\", \"developer.mozilla.org\", \"en-US/Web/JavaScript\"]\n",
    "\n",
    "var [, protocol, fullhost, fullpath] = parsedURL;\n",
    "\n",
    "displayRes(protocol); // \"https\""
   ]
  },
  {
   "cell_type": "markdown",
   "metadata": {},
   "source": [
    "## 按照字母顺序排序"
   ]
  },
  {
   "cell_type": "code",
   "execution_count": 3,
   "metadata": {},
   "outputs": [
    {
     "output_type": "error",
     "ename": "Error",
     "evalue": "Cannot find module 'utils'\nRequire stack:\n- C:\\Users\\Awam M Wang\\AppData\\Local\\Temp\\7a619ce1-a1a6-4175-a9ae-107cc029eec0\\[eval]",
     "traceback": [
      "internal/modules/cjs/loader.js:797",
      "    throw err;",
      "    ^",
      "",
      "Error: Cannot find module 'utils'",
      "Require stack:",
      "- C:\\Users\\Awam M Wang\\AppData\\Local\\Temp\\7a619ce1-a1a6-4175-a9ae-107cc029eec0\\[eval]",
      "    at Function.Module._resolveFilename (internal/modules/cjs/loader.js:794:15)",
      "    at Function.Module._load (internal/modules/cjs/loader.js:687:27)",
      "    at Module.require (internal/modules/cjs/loader.js:849:19)",
      "    at require (internal/modules/cjs/helpers.js:74:18)",
      "    at evalmachine.<anonymous>:1:22",
      "    at Script.runInThisContext (vm.js:116:20)",
      "    at Object.runInThisContext (vm.js:306:38)",
      "    at run ([eval]:1054:15)",
      "    at onRunRequest ([eval]:888:18)",
      "    at onMessage ([eval]:848:13)"
     ]
    }
   ],
   "source": [
    "var { displayRes } = require('utils')\n",
    "\n",
    "var sortCharactersInString = str =>\n",
    "  str.split('').sort((a, b) => a.localeCompare(b)).join('')\n",
    "\n",
    "displayRes(sortCharactersInString('abAsDf'))"
   ]
  },
  {
   "cell_type": "code",
   "execution_count": null,
   "metadata": {},
   "outputs": [],
   "source": []
  }
 ],
 "metadata": {
  "kernelspec": {
   "display_name": "Javascript (Node.js)",
   "language": "javascript",
   "name": "javascript"
  },
  "language_info": {
   "file_extension": ".js",
   "mimetype": "application/javascript",
   "name": "javascript",
   "version": "3.8.2-final"
  }
 },
 "nbformat": 4,
 "nbformat_minor": 4
}