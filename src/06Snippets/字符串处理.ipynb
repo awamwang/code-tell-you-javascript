{
 "cells": [
  {
   "cell_type": "markdown",
   "metadata": {},
   "source": [
    "## 解构赋值+正则 提取字符串中各个部分"
   ]
  },
  {
   "cell_type": "code",
   "execution_count": 8,
   "metadata": {},
   "outputs": [
    {
     "name": "stdout",
     "output_type": "stream",
     "text": [
      "[\n",
      "  'https://developer.mozilla.org/en-US/Web/JavaScript',\n",
      "  'https',\n",
      "  'developer.mozilla.org',\n",
      "  'en-US/Web/JavaScript',\n",
      "  index: 0,\n",
      "  input: 'https://developer.mozilla.org/en-US/Web/JavaScript',\n",
      "  groups: undefined\n",
      "]\n",
      "结果: https\n"
     ]
    }
   ],
   "source": [
    "var { displayRes } = require('utils')\n",
    "\n",
    "var url = \"https://developer.mozilla.org/en-US/Web/JavaScript\";\n",
    "\n",
    "var parsedURL = /^(\\w+)\\:\\/\\/([^\\/]+)\\/(.*)$/.exec(url);\n",
    "console.log(parsedURL); // [\"https://developer.mozilla.org/en-US/Web/JavaScript\", \"https\", \"developer.mozilla.org\", \"en-US/Web/JavaScript\"]\n",
    "\n",
    "var [, protocol, fullhost, fullpath] = parsedURL;\n",
    "\n",
    "displayRes(protocol); // \"https\""
   ]
  },
  {
   "cell_type": "markdown",
   "metadata": {},
   "source": [
    "## 按照字母顺序排序"
   ]
  },
  {
   "cell_type": "code",
   "execution_count": 1,
   "metadata": {},
   "outputs": [
    {
     "name": "stdout",
     "output_type": "stream",
     "text": [
      "结果: aAbDfs\n"
     ]
    }
   ],
   "source": [
    "var { displayRes } = require('utils')\n",
    "\n",
    "var sortCharactersInString = str =>\n",
    "  str.split('').sort((a, b) => a.localeCompare(b)).join('')\n",
    "\n",
    "displayRes(sortCharactersInString('abAsDf'))"
   ]
  },
  {
   "cell_type": "code",
   "execution_count": null,
   "metadata": {},
   "outputs": [],
   "source": []
  }
 ],
 "metadata": {
  "kernelspec": {
   "display_name": "Javascript (Node.js)",
   "language": "javascript",
   "name": "javascript"
  },
  "language_info": {
   "file_extension": ".js",
   "mimetype": "application/javascript",
   "name": "javascript",
   "version": "12.13.0"
  }
 },
 "nbformat": 4,
 "nbformat_minor": 4
}
