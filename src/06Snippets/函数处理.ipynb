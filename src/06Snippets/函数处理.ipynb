{
 "cells": [
  {
   "cell_type": "markdown",
   "metadata": {},
   "source": [
    "## 生成可缓存函数\n",
    "\n",
    "利用闭包特性，通过外层函数的变量来缓存执行结果"
   ]
  },
  {
   "cell_type": "code",
   "execution_count": 3,
   "metadata": {},
   "outputs": [
    {
     "name": "stdout",
     "output_type": "stream",
     "text": [
      "计算中...\n",
      "结果: 2\n",
      "结果: 2\n"
     ]
    }
   ],
   "source": [
    "var { displayRes } = require('utils')\n",
    "\n",
    "function cached (fn) {\n",
    "  var cache = Object.create(null)\n",
    "  \n",
    "  return (function cachedFn (str) {\n",
    "    var hit = cache[str]\n",
    "    return hit || (cache[str] = fn(str))\n",
    "  })\n",
    "}\n",
    "\n",
    "function fn(n) {\n",
    "  console.log('计算中...')\n",
    "    \n",
    "  return n * n / n + 1\n",
    "}\n",
    "var cachedFn = cached(fn)\n",
    "displayRes(cachedFn(1))\n",
    "displayRes(cachedFn(1))"
   ]
  }
 ],
 "metadata": {
  "kernelspec": {
   "display_name": "Javascript (Node.js)",
   "language": "javascript",
   "name": "javascript"
  },
  "language_info": {
   "file_extension": ".js",
   "mimetype": "application/javascript",
   "name": "javascript",
   "version": "12.13.0"
  }
 },
 "nbformat": 4,
 "nbformat_minor": 4
}
