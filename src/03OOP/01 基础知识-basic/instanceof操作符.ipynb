{
 "cells": [
  {
   "cell_type": "code",
   "execution_count": 2,
   "metadata": {},
   "outputs": [
    {
     "name": "stdout",
     "output_type": "stream",
     "text": [
      "结果: Children { constructor: [Function: Children] }\n",
      "结果: true\n",
      "结果: true\n",
      "结果: true\n",
      "结果: 一个有趣的instanceof关系: true true\n"
     ]
    }
   ],
   "source": [
    "var {displayRes} = require('utils')\n",
    "\n",
    "var o = { a: 1 }\n",
    "\n",
    "function Parent() {\n",
    "\n",
    "}\n",
    "Parent.prototype = Object.create(o)\n",
    "\n",
    "function Children() {\n",
    "\n",
    "}\n",
    "Children.prototype = new Parent()\n",
    "Children.prototype.constructor = Children\n",
    "var child = new Children()\n",
    "\n",
    "// instanceof能用来检测原型链\n",
    "displayRes(child.__proto__)\n",
    "displayRes(child instanceof Parent)\n",
    "displayRes(Children.prototype instanceof Parent)\n",
    "displayRes(child instanceof Object)\n",
    "\n",
    "displayRes('一个有趣的instanceof关系:', Object instanceof Function, Function instanceof Object)"
   ]
  }
 ],
 "metadata": {
  "kernelspec": {
   "display_name": "Javascript (Node.js)",
   "language": "javascript",
   "name": "javascript"
  },
  "language_info": {
   "file_extension": ".js",
   "mimetype": "application/javascript",
   "name": "javascript",
   "version": "12.13.0"
  }
 },
 "nbformat": 4,
 "nbformat_minor": 4
}
