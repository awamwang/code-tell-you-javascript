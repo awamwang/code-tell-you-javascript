{
 "cells": [
  {
   "cell_type": "code",
   "execution_count": 3,
   "metadata": {},
   "outputs": [
    {
     "name": "stdout",
     "output_type": "stream",
     "text": [
      "结果: staticFunc\n",
      "结果: 1\n"
     ]
    }
   ],
   "source": [
    "var { displayRes } = require('utils')\n",
    "\n",
    "function ClassA() {\n",
    "\n",
    "}\n",
    "\n",
    "// 想要添加静态属性，直接给构造函数添加属性即可\n",
    "ClassA.staticFunc = function() {\n",
    "  return 'staticFunc'\n",
    "}\n",
    "ClassA.staticProp = 1\n",
    "\n",
    "displayRes(ClassA.staticFunc())\n",
    "displayRes(ClassA.staticProp)"
   ]
  }
 ],
 "metadata": {
  "kernelspec": {
   "display_name": "Javascript (Node.js)",
   "language": "javascript",
   "name": "javascript"
  },
  "language_info": {
   "file_extension": ".js",
   "mimetype": "application/javascript",
   "name": "javascript",
   "version": "12.13.0"
  }
 },
 "nbformat": 4,
 "nbformat_minor": 4
}
