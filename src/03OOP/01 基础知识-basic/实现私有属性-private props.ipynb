{
 "cells": [
  {
   "cell_type": "code",
   "execution_count": 1,
   "metadata": {},
   "outputs": [
    {
     "name": "stdout",
     "output_type": "stream",
     "text": [
      "结果: 1\n",
      "结果: string\n"
     ]
    }
   ],
   "source": [
    "var {displayRes} = require('utils')\n",
    "\n",
    "var Book = (function() {\n",
    "  var privProp1 = 1\n",
    "  var privProp2 = 'string'\n",
    "\n",
    "  // 利用闭包特性，让类的方法可以访问privProp1，privProp2，却不暴露到实例外部\n",
    "  return function() {\n",
    "    this.func1 = function() {\n",
    "      return privProp1\n",
    "    }\n",
    "    this.func2 = function() {\n",
    "      return privProp2\n",
    "    }\n",
    "  }\n",
    "})()\n",
    "\n",
    "var b = new Book()\n",
    "displayRes(b.func1())\n",
    "displayRes(b.func2())"
   ]
  }
 ],
 "metadata": {
  "kernelspec": {
   "display_name": "Javascript (Node.js)",
   "language": "javascript",
   "name": "javascript"
  },
  "language_info": {
   "file_extension": ".js",
   "mimetype": "application/javascript",
   "name": "javascript",
   "version": "12.13.0"
  }
 },
 "nbformat": 4,
 "nbformat_minor": 4
}
