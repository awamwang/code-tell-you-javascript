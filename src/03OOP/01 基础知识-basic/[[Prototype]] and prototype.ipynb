{
 "cells": [
  {
   "cell_type": "markdown",
   "metadata": {},
   "source": [
    "## 初始化相关变量"
   ]
  },
  {
   "cell_type": "code",
   "execution_count": 3,
   "metadata": {
    "tags": []
   },
   "outputs": [
    {
     "name": "stdout",
     "output_type": "stream",
     "text": [
      "结果: true true\n",
      "结果: true\n",
      "结果: true\n",
      "结果: true\n",
      "结果: true\n",
      "结果: true\n",
      "结果: true true\n",
      "结果: 构造函数依然是函数，它的原型是Function.prototype这个模板: true\n",
      "结果: true\n",
      "结果: true\n",
      "结果: true\n",
      "结果: true\n",
      "结果: true\n",
      "结果: true\n",
      "结果: true\n",
      "结果: {}\n"
     ]
    }
   ],
   "source": [
    "var {displayRes} = require('utils')\n",
    "\n",
    "var num1 = 1\n",
    "var str1 = 'string'\n",
    "var bool1 = true\n",
    "var symbol1 = Symbol('xxx')\n",
    "var o = {}\n",
    "var o1 = Object.create(o)\n",
    "\n",
    "function func() {\n",
    "\n",
    "}\n",
    "\n",
    "function ClassA() {\n",
    "\n",
    "}\n",
    "ClassA.prototype = o1\n",
    "var c = new ClassA()\n",
    "\n",
    "displayRes(num1.__proto__ === Number.prototype, Object.getPrototypeOf(num1) === Number.prototype)\n",
    "displayRes(str1.__proto__ === String.prototype)\n",
    "displayRes(bool1.__proto__ === Boolean.prototype)\n",
    "displayRes(symbol1.__proto__ === Symbol.prototype)\n",
    "displayRes(o.__proto__ === Object.prototype)\n",
    "displayRes(func.__proto__ === Function.prototype)\n",
    "displayRes(c.__proto__ === ClassA.prototype, c.__proto__ === o1)\n",
    "displayRes('构造函数依然是函数，它的原型是Function.prototype这个模板:', ClassA.__proto__ === Function.prototype)\n",
    "// 特殊\n",
    "displayRes(o1.__proto__ === o)\n",
    "displayRes(Object.prototype.__proto__ === null)\n",
    "\n",
    "// 原生构造函数的原型\n",
    "displayRes(Number.__proto__ === Function.prototype)\n",
    "displayRes(String.__proto__ === Function.prototype)\n",
    "displayRes(Boolean.__proto__ === Function.prototype)\n",
    "displayRes(Symbol.__proto__ === Function.prototype)\n",
    "displayRes(Function.prototype === Function.__proto__)\n",
    "\n",
    "displayRes(Object.prototype)\n"
   ]
  },
  {
   "cell_type": "code",
   "execution_count": null,
   "metadata": {},
   "outputs": [],
   "source": [
    "displayRes(num1.__proto__ === Number.prototype num1.__proto__ === Number.prototype)\n",
    "Object.getPrototypeOf(num1) === Number.prototypenum1.__proto__ === Number.prototype\n",
    "Object.getPrototypeOf(num1) === Number.prototype"
   ]
  },
  {
   "cell_type": "code",
   "execution_count": 1,
   "metadata": {},
   "outputs": [
    {
     "name": "stdout",
     "output_type": "stream",
     "text": [
      "Person { name: 'Peter' }\n"
     ]
    },
    {
     "data": {
      "text/plain": [
       "Person { name: 'Peter' }"
      ]
     },
     "execution_count": 1,
     "metadata": {},
     "output_type": "execute_result"
    }
   ],
   "source": [
    "function Person(name) {\n",
    "    this.name = name;\n",
    "}\n",
    "\n",
    "Person.prototype.inspect = function inspect(depth) {\n",
    "    return \"Person named \" + this.name;\n",
    "};\n",
    "var peter = new Person(\"Peter\");\n",
    "\n",
    "var util = require(\"util\");\n",
    "displayRes(util.inspect(peter));  // shown on stdout\n",
    "peter;   "
   ]
  },
  {
   "cell_type": "code",
   "execution_count": 1,
   "metadata": {},
   "outputs": [
    {
     "name": "stdin",
     "output_type": "stream",
     "text": [
      "? ····\n"
     ]
    },
    {
     "data": {
      "text/plain": [
       "'sdfs'"
      ]
     },
     "execution_count": 1,
     "metadata": {},
     "output_type": "execute_result"
    },
    {
     "data": {
      "text/plain": [
       "'sdfs'"
      ]
     },
     "execution_count": 1,
     "metadata": {},
     "output_type": "execute_result"
    }
   ],
   "source": [
    "$$.input({prompt:'?', password: true}, function(error, reply) {$$.done(reply)});"
   ]
  }
 ],
 "metadata": {
  "kernelspec": {
   "display_name": "Javascript (Node.js)",
   "language": "javascript",
   "name": "javascript"
  },
  "language_info": {
   "file_extension": ".js",
   "mimetype": "application/javascript",
   "name": "javascript",
   "version": "12.13.0"
  }
 },
 "nbformat": 4,
 "nbformat_minor": 4
}
