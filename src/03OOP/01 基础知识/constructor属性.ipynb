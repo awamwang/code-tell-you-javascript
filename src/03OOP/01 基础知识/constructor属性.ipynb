{
 "cells": [
  {
   "cell_type": "markdown",
   "metadata": {},
   "source": [
    "## 基础"
   ]
  },
  {
   "cell_type": "code",
   "execution_count": null,
   "metadata": {},
   "outputs": [],
   "source": [
    "var {displayRes} = require('utils')\n",
    "\n",
    "\n",
    "function ClassA () {\n",
    "\n",
    "}\n",
    "\n",
    "displayRes('prototype具有一个constructor属性，指向构造函数本身', ClassA.prototype.constructor === ClassA)"
   ]
  },
  {
   "cell_type": "markdown",
   "metadata": {},
   "source": [
    "## 修改constructor\n",
    "\n",
    "constructor属性可以被重新赋值，常见场景就是继承时修正constructor指向\n",
    "\n",
    "```js\n",
    "function inheritObject(o) {\n",
    "  function F() {}\n",
    "  F.prototype = o\n",
    "  return new F()\n",
    "}\n",
    "\n",
    "function inheritPrototype(subClass, superClass) {\n",
    "  var p = inheritObject(superClass.prototype)\n",
    "  p.constructor = subClass\n",
    "\n",
    "  subClass.prototype = p\n",
    "}\n",
    "```"
   ]
  },
  {
   "cell_type": "code",
   "execution_count": null,
   "metadata": {},
   "outputs": [],
   "source": []
  }
 ],
 "metadata": {
  "kernelspec": {
   "display_name": "Javascript (Node.js)",
   "language": "javascript",
   "name": "javascript"
  },
  "language_info": {
   "file_extension": ".js",
   "mimetype": "application/javascript",
   "name": "javascript",
   "version": "12.13.0"
  }
 },
 "nbformat": 4,
 "nbformat_minor": 4
}
