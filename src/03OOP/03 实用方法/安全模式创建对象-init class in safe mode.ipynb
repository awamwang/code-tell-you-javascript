{
 "cells": [
  {
   "cell_type": "markdown",
   "metadata": {},
   "source": [
    "## 基础\n",
    "\n",
    "安全模式可以避免错误的构造函数调用"
   ]
  },
  {
   "cell_type": "code",
   "execution_count": 2,
   "metadata": {},
   "outputs": [
    {
     "name": "stdout",
     "output_type": "stream",
     "text": [
      "结果: run func1 haha\n"
     ]
    }
   ],
   "source": [
    "var { displayRes } = require('utils')\n",
    "\n",
    "function ClassA(param1) {\n",
    "  if (this instanceof ClassA) {\n",
    "    var that = this\n",
    "      \n",
    "    this.prop1 = param1\n",
    "\n",
    "    this.func1 = function() {\n",
    "      return 'run func1' + ' ' + that.prop1\n",
    "    }\n",
    "  } else {\n",
    "    // 如果不通过new操作符调用，则内部处理这种错误调用方式\n",
    "    return new ClassA(param1)\n",
    "  }\n",
    "}\n",
    "\n",
    "var c = ClassA('haha')\n",
    "displayRes(c.func1())"
   ]
  }
 ],
 "metadata": {
  "kernelspec": {
   "display_name": "Javascript (Node.js)",
   "language": "javascript",
   "name": "javascript"
  },
  "language_info": {
   "file_extension": ".js",
   "mimetype": "application/javascript",
   "name": "javascript",
   "version": "12.13.0"
  }
 },
 "nbformat": 4,
 "nbformat_minor": 4
}
