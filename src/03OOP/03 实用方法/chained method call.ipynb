{
 "cells": [
  {
   "cell_type": "code",
   "execution_count": 1,
   "metadata": {},
   "outputs": [
    {
     "name": "stdout",
     "output_type": "stream",
     "text": [
      "run func1\n",
      "run func2\n",
      "run func3\n"
     ]
    },
    {
     "data": {
      "text/plain": [
       "O {}"
      ]
     },
     "execution_count": 1,
     "metadata": {},
     "output_type": "execute_result"
    }
   ],
   "source": [
    "var O = function() {}\n",
    "O.prototype.func1 = function () {\n",
    "  console.log('run func1')\n",
    "  return this\n",
    "}\n",
    "O.prototype.func2 = function () {\n",
    "  console.log('run func2')\n",
    "  return this\n",
    "}\n",
    "O.prototype.func3 = function () {\n",
    "  console.log('run func3')\n",
    "  return this\n",
    "}\n",
    "\n",
    "var o = new O()\n",
    "// 在对象的方法中把this作为返回值return，就可以在方法调用后继续调用其他方法，形成链式调用\n",
    "o.func1().func2().func3()"
   ]
  }
 ],
 "metadata": {
  "kernelspec": {
   "display_name": "Javascript (Node.js)",
   "language": "javascript",
   "name": "javascript"
  },
  "language_info": {
   "file_extension": ".js",
   "mimetype": "application/javascript",
   "name": "javascript",
   "version": "12.13.0"
  }
 },
 "nbformat": 4,
 "nbformat_minor": 4
}
