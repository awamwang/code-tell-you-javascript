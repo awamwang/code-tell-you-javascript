{
 "cells": [
  {
   "cell_type": "code",
   "execution_count": 1,
   "metadata": {},
   "outputs": [
    {
     "name": "stdout",
     "output_type": "stream",
     "text": [
      "结果: { a: 1, b: 2 }\n"
     ]
    }
   ],
   "source": [
    "var { displayRes } = require('utils')\n",
    "\n",
    "var extend = function(target, source) {\n",
    "  for (var prop in source) {\n",
    "    target[prop] = source[prop]\n",
    "  }\n",
    "\n",
    "  return target\n",
    "}\n",
    "\n",
    "var source = {\n",
    "  a: 1\n",
    "}\n",
    "var target = {\n",
    "  b: 2\n",
    "}\n",
    "extend(source, target)\n",
    "displayRes(source)"
   ]
  }
 ],
 "metadata": {
  "kernelspec": {
   "display_name": "Javascript (Node.js)",
   "language": "javascript",
   "name": "javascript"
  },
  "language_info": {
   "file_extension": ".js",
   "mimetype": "application/javascript",
   "name": "javascript",
   "version": "12.13.0"
  }
 },
 "nbformat": 4,
 "nbformat_minor": 4
}
