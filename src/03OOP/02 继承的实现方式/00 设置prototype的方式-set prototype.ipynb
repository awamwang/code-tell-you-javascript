{
 "cells": [
  {
   "cell_type": "code",
   "execution_count": 1,
   "metadata": {},
   "outputs": [
    {
     "name": "stdout",
     "output_type": "stream",
     "text": [
      "结果: run func1\n",
      "结果: run func2\n",
      "结果: 原型的动态性: run func3\n",
      "结果: [new]run func1\n",
      "结果: o2.func2 is not a function\n",
      "结果: [new]run func3\n"
     ]
    }
   ],
   "source": [
    "var { displayRes } = require('utils')\n",
    "\n",
    "var O = function() {}\n",
    "O.prototype.func1 = function() {\n",
    "  return 'run func1'\n",
    "}\n",
    "O.prototype.func2 = function() {\n",
    "  return 'run func2'\n",
    "}\n",
    "\n",
    "var o1 = new O()\n",
    "// 原型的动态性：创建实例后，再去修改原型，预计也会生效\n",
    "O.prototype.func3 = function() {\n",
    "  return 'run func3'\n",
    "}\n",
    "\n",
    "// 整体修改prototype对象\n",
    "O.prototype = {\n",
    "  func1() {\n",
    "    return '[new]run func1'\n",
    "  },\n",
    "  func3() {\n",
    "    return '[new]run func3'\n",
    "  }\n",
    "}\n",
    "\n",
    "var o2 = new O()\n",
    "\n",
    "displayRes(o1.func1())\n",
    "displayRes(o1.func2())\n",
    "displayRes('原型的动态性:', o1.func3())\n",
    "displayRes(o2.func1())\n",
    "try {\n",
    "  o2.func2()\n",
    "} catch (error) {\n",
    "  displayRes(error.message)\n",
    "}\n",
    "displayRes(o2.func3())"
   ]
  }
 ],
 "metadata": {
  "kernelspec": {
   "display_name": "Javascript (Node.js)",
   "language": "javascript",
   "name": "javascript"
  },
  "language_info": {
   "file_extension": ".js",
   "mimetype": "application/javascript",
   "name": "javascript",
   "version": "12.13.0"
  }
 },
 "nbformat": 4,
 "nbformat_minor": 4
}
