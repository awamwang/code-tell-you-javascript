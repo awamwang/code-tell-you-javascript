{
 "cells": [
  {
   "cell_type": "markdown",
   "metadata": {},
   "source": [
    "## 寄生组合式继承"
   ]
  },
  {
   "cell_type": "code",
   "execution_count": 2,
   "metadata": {},
   "outputs": [],
   "source": [
    "function inheritObject(o) {\n",
    "  function F() {}\n",
    "  F.prototype = o\n",
    "  return new F()\n",
    "}\n",
    "\n",
    "function inheritPrototype(subClass, superClass) {\n",
    "  var p = inheritObject(superClass.prototype)\n",
    "  p.constructor = subClass\n",
    "\n",
    "  subClass.prototype = p\n",
    "}"
   ]
  },
  {
   "cell_type": "markdown",
   "metadata": {},
   "source": [
    "## JavaScript的抽象类实现"
   ]
  },
  {
   "cell_type": "code",
   "execution_count": 4,
   "metadata": {},
   "outputs": [
    {
     "name": "stdout",
     "output_type": "stream",
     "text": [
      "结果: run func1\n"
     ]
    },
    {
     "ename": "Error",
     "evalue": "no implements",
     "execution_count": 4,
     "output_type": "error",
     "traceback": [
      "evalmachine.<anonymous>:8",
      "  throw new Error('no implements')",
      "  ^",
      "",
      "Error: no implements",
      "    at SubClass.AbstractClass.func2 (evalmachine.<anonymous>:8:9)",
      "    at evalmachine.<anonymous>:21:16",
      "    at Script.runInThisContext (vm.js:116:20)",
      "    at Object.runInThisContext (vm.js:306:38)",
      "    at run ([eval]:1054:15)",
      "    at onRunRequest ([eval]:888:18)",
      "    at onMessage ([eval]:848:13)",
      "    at process.emit (events.js:210:5)",
      "    at emit (internal/child_process.js:876:12)",
      "    at processTicksAndRejections (internal/process/task_queues.js:81:21)"
     ]
    }
   ],
   "source": [
    "var { displayRes } = require('utils')\n",
    "\n",
    "function AbstractClass() {}\n",
    "AbstractClass.prototype.func1 = function() {\n",
    "  return new Error('no implements')\n",
    "}\n",
    "AbstractClass.prototype.func2 = function() {\n",
    "  throw new Error('no implements')\n",
    "}\n",
    "\n",
    "function SubClass() {}\n",
    "inheritPrototype(SubClass, AbstractClass)\n",
    "SubClass.prototype.func1 = function() {\n",
    "  return 'run func1'\n",
    "}\n",
    "\n",
    "var sub = new SubClass()\n",
    "// 继承类实现了基类（抽象类）的func1方法\n",
    "displayRes(sub.func1())\n",
    "// 继承类不实现func2方法\n",
    "displayRes(sub.func2())"
   ]
  }
 ],
 "metadata": {
  "kernelspec": {
   "display_name": "Javascript (Node.js)",
   "language": "javascript",
   "name": "javascript"
  },
  "language_info": {
   "file_extension": ".js",
   "mimetype": "application/javascript",
   "name": "javascript",
   "version": "12.13.0"
  }
 },
 "nbformat": 4,
 "nbformat_minor": 4
}
