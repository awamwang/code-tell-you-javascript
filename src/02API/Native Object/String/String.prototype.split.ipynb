{
 "cells": [
  {
   "cell_type": "markdown",
   "metadata": {},
   "source": [
    "# String.prototype.split\n",
    "\n",
    "> 使用指定字符（或正则）分隔字符串\n",
    "\n",
    "[MDN 文档](https://developer.mozilla.org/zh-CN/docs/Web/JavaScript/Reference/Global_Objects/String/split)\n",
    "\n",
    "- 两个参数`separator`, `limit`\n",
    "- 支持正则作为分隔符\n",
    "- 支持使用一个数组来作为分隔符\n",
    "- 空字符串也会被算作字符分隔结果"
   ]
  },
  {
   "cell_type": "code",
   "execution_count": 3,
   "metadata": {},
   "outputs": [
    {
     "name": "stdout",
     "output_type": "stream",
     "text": [
      "[ '1', '2', '3' ]\n"
     ]
    }
   ],
   "source": [
    "// limit限制分隔结果长度\n",
    "\n",
    "console.log('1,2,3,4'.split(',', 3))"
   ]
  },
  {
   "cell_type": "code",
   "execution_count": 1,
   "metadata": {},
   "outputs": [
    {
     "name": "stdout",
     "output_type": "stream",
     "text": [
      "Harry Trump ;Fred Barney; Helen Rigby ; Bill Abel ;Chris Hand \n",
      "[\n",
      "  'Harry Trump',\n",
      "  'Fred Barney',\n",
      "  'Helen Rigby',\n",
      "  'Bill Abel',\n",
      "  'Chris Hand',\n",
      "  ''\n",
      "]\n"
     ]
    }
   ],
   "source": [
    "// 正则分隔，处理复杂的不规则分隔\n",
    "\n",
    "var names = \"Harry Trump ;Fred Barney; Helen Rigby ; Bill Abel ;Chris Hand \";\n",
    "\n",
    "console.log(names);\n",
    "\n",
    "var re = /\\s*(?:;|$)\\s*/;\n",
    "var nameList = names.split(re);\n",
    "\n",
    "console.log(nameList);"
   ]
  },
  {
   "cell_type": "code",
   "execution_count": 2,
   "metadata": {},
   "outputs": [
    {
     "name": "stdout",
     "output_type": "stream",
     "text": [
      "[ 'Hello ', '1', ' word. Sentence number ', '2', '.' ]\n"
     ]
    }
   ],
   "source": [
    "// 使用捕获括号，可以使结果中包含分隔块\n",
    "var myString = \"Hello 1 word. Sentence number 2.\";\n",
    "var splits = myString.split(/(\\d)/);\n",
    "\n",
    "console.log(splits);"
   ]
  },
  {
   "cell_type": "code",
   "execution_count": 7,
   "metadata": {},
   "outputs": [
    {
     "name": "stdout",
     "output_type": "stream",
     "text": [
      "[ 'c', 'c,', 'c', 'c', 'c' ]\n"
     ]
    }
   ],
   "source": [
    "// 支持使用一个数组来作为分隔符；不要这么用，很难理解\n",
    "\n",
    "console.log('ca,bc,a,bca,bca,bc'.split(['a', 'b']))"
   ]
  },
  {
   "cell_type": "code",
   "execution_count": 4,
   "metadata": {},
   "outputs": [
    {
     "name": "stdout",
     "output_type": "stream",
     "text": [
      "[ 's', '', 's' ]\n"
     ]
    }
   ],
   "source": [
    "// 空字符串也会被算作字符分隔结果\n",
    "\n",
    "console.log('s  s'.split(' '))"
   ]
  }
 ],
 "metadata": {
  "kernelspec": {
   "display_name": "Javascript (Node.js)",
   "language": "javascript",
   "name": "javascript"
  },
  "language_info": {
   "file_extension": ".js",
   "mimetype": "application/javascript",
   "name": "javascript",
   "version": "12.18.1"
  }
 },
 "nbformat": 4,
 "nbformat_minor": 4
}
