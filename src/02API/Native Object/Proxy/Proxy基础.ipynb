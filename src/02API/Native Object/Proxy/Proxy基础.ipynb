{
 "cells": [
  {
   "cell_type": "markdown",
   "metadata": {},
   "source": [
    "## get handler"
   ]
  },
  {
   "cell_type": "code",
   "execution_count": 1,
   "metadata": {},
   "outputs": [
    {
     "name": "stdout",
     "output_type": "stream",
     "text": [
      "############# 访问原对象 #############\n",
      "访问原对象有的属性 1\n",
      "访问原对象没有的属性 undefined\n",
      "############# 访问代理 #############\n",
      "访问代理对象有的属性 1\n",
      "not get\n",
      "访问代理对象有的属性 undefined\n"
     ]
    }
   ],
   "source": [
    "var ori = {\n",
    "  a: 1\n",
    "}\n",
    "\n",
    "// 客户端要调用的是代理对象，符合代理模式\n",
    "t = new Proxy(ori, {\n",
    "  get(target, key) {\n",
    "    if (key in target) {\n",
    "      return target[key]\n",
    "    } else {\n",
    "      console.log('not get')\n",
    "    }\n",
    "  }\n",
    "})\n",
    "\n",
    "console.log('############# 访问原对象 #############')\n",
    "console.log('访问原对象有的属性', ori.a)\n",
    "console.log('访问原对象没有的属性', ori.b)\n",
    "console.log('############# 访问代理 #############')\n",
    "console.log('访问代理对象有的属性', t.a)\n",
    "console.log('访问代理对象有的属性', t.b)"
   ]
  },
  {
   "cell_type": "code",
   "execution_count": 7,
   "metadata": {},
   "outputs": [
    {
     "name": "stdout",
     "output_type": "stream",
     "text": [
      "deleteProperty####################################\n",
      "deleteProperty\n",
      "删除后 dest.a  1 （由于代理了deleteProperty，实际没有执行delete操作）\n"
     ]
    }
   ],
   "source": [
    "console.log('deleteProperty####################################')\n",
    "\n",
    "var ori = {\n",
    "  a: 1,\n",
    "  b: 2\n",
    "}\n",
    "var dest = new Proxy(t, {\n",
    "  deleteProperty(target, key) {\n",
    "    console.log('deleteProperty')\n",
    "  }\n",
    "})\n",
    "\n",
    "delete dest.a\n",
    "console.log('删除后 dest.a ', dest.a, '（由于代理了deleteProperty，实际没有执行delete操作）')"
   ]
  },
  {
   "cell_type": "markdown",
   "metadata": {},
   "source": [
    "## enumerate\n",
    "\n",
    "enumerate()该方法用于拦截for...in循环，注意不可与has()方法弄混（has方法用于拦截in操作符）。"
   ]
  },
  {
   "cell_type": "code",
   "execution_count": 10,
   "metadata": {},
   "outputs": [
    {
     "name": "stdout",
     "output_type": "stream",
     "text": [
      "enumerate####################################\n",
      "t的enumerate结果 1,2\n",
      "代理的enumerate结果 1,2\n"
     ]
    }
   ],
   "source": [
    "console.log('enumerate####################################')\n",
    "\n",
    "var t = {\n",
    "  a: 1,\n",
    "  b: 2\n",
    "}\n",
    "var d\n",
    "\n",
    "d = new Proxy(t, {\n",
    "  enumerate(target, key) {\n",
    "    console.log('enumerate', target.keys())\n",
    "    return target.keys().map(e => e+1)\n",
    "  }\n",
    "})\n",
    "\n",
    "var tRes = []\n",
    "for (let key in t) {\n",
    "  tRes.push(t[key])\n",
    "}\n",
    "console.log('t的enumerate结果', tRes.join(','))\n",
    "var dRes = []\n",
    "for (let key in d) {\n",
    "  dRes.push(d[key])\n",
    "}\n",
    "console.log('代理的enumerate结果', dRes.join(','))"
   ]
  },
  {
   "cell_type": "code",
   "execution_count": 11,
   "metadata": {},
   "outputs": [
    {
     "name": "stdout",
     "output_type": "stream",
     "text": [
      "ownKeys+++++++++++++++++++++++++++++\n",
      "t的keys  [ 'a', 'b' ]\n",
      "ownKeys\n",
      "代理结果的keys  [ 'a', 'b' ]\n"
     ]
    }
   ],
   "source": [
    "console.log('ownKeys+++++++++++++++++++++++++++++')\n",
    "// ownKeys()该方法用于拦截Object.keys()操作。\n",
    "\n",
    "var t = {\n",
    "  a: 1,\n",
    "  b: 2\n",
    "}\n",
    "var d\n",
    "\n",
    "d = new Proxy(t, {\n",
    "  ownKeys(target, key) {\n",
    "    console.log('ownKeys')\n",
    "    return Object.keys(target)\n",
    "  }\n",
    "})\n",
    "\n",
    "console.log('t的keys ', Object.keys(t))\n",
    "console.log('代理结果的keys ', Object.keys(d))"
   ]
  },
  {
   "cell_type": "code",
   "execution_count": 12,
   "metadata": {},
   "outputs": [
    {
     "name": "stdout",
     "output_type": "stream",
     "text": [
      "getPrototypeOf+++++++++++++++++++++++++++++\n",
      "getPrototypeOf  { ori1: 'ori1' }\n",
      "__proto__  { ori1: 'ori1' }\n"
     ]
    }
   ],
   "source": [
    "console.log('getPrototypeOf+++++++++++++++++++++++++++++')\n",
    "var t = {\n",
    "  a: 1,\n",
    "  b: 2\n",
    "}\n",
    "Object.setPrototypeOf(t, {ori1: 'ori1'})\n",
    "\n",
    "console.log('getPrototypeOf ', Object.getPrototypeOf(t))\n",
    "console.log('__proto__ ', t.__proto__)"
   ]
  }
 ],
 "metadata": {
  "kernelspec": {
   "display_name": "Javascript (Node.js)",
   "language": "javascript",
   "name": "javascript"
  },
  "language_info": {
   "file_extension": ".js",
   "mimetype": "application/javascript",
   "name": "javascript",
   "version": "12.18.1"
  }
 },
 "nbformat": 4,
 "nbformat_minor": 4
}
