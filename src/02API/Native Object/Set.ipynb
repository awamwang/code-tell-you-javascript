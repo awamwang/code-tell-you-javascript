{
 "cells": [
  {
   "cell_type": "markdown",
   "metadata": {},
   "source": [
    "# Set\n",
    "\n",
    "- 有序（按插入序）——与Array相同\n",
    "- 没有重复元素，自动去重——与Array不同"
   ]
  },
  {
   "cell_type": "markdown",
   "metadata": {},
   "source": [
    "## 方法\n",
    "\n",
    "- add()\n",
    "- delete()\n",
    "- has()\n",
    "- forEach()\n",
    "- entries() 返回一个迭代器对象\n",
    "- values()\n",
    "- clear()"
   ]
  },
  {
   "cell_type": "code",
   "execution_count": 5,
   "metadata": {},
   "outputs": [
    {
     "name": "stdout",
     "output_type": "stream",
     "text": [
      "2\n",
      "true\n",
      "元素 hello\n",
      "元素 world\n",
      "[ 'hello', 'hello' ]\n",
      "[ 'world', 'world' ]\n",
      "values [Set Iterator] { 'hello', 'world' }\n",
      "0\n"
     ]
    }
   ],
   "source": [
    "var s = new Set()\n",
    "s.add('多余').add('hello').add('hello').add('world').delete('多余')\n",
    "console.log(s.size) //=> 2\n",
    "console.log(s.has('hello')) //=> true\n",
    "\n",
    "s.forEach(e => {\n",
    "  console.log('元素', e)\n",
    "})\n",
    "// entries\n",
    "var iter = s.entries()\n",
    "console.log(iter.next().value)\n",
    "console.log(iter.next().value)\n",
    "// values\n",
    "console.log('values', s.values())\n",
    "// clear\n",
    "s.clear()\n",
    "console.log(s.size)"
   ]
  },
  {
   "cell_type": "markdown",
   "metadata": {},
   "source": [
    "## 属性\n",
    "\n",
    "- size"
   ]
  },
  {
   "cell_type": "markdown",
   "metadata": {},
   "source": [
    "## 与Array的转化\n",
    "\n",
    "从Array到Set，直接传Array到`Set`构造函数中\n",
    "从Set到Array，使用Array的静态方法`from`"
   ]
  },
  {
   "cell_type": "code",
   "execution_count": 6,
   "metadata": {},
   "outputs": [
    {
     "name": "stdout",
     "output_type": "stream",
     "text": [
      "Set { 1, 2, 3 }\n",
      "[ 1, 2, 3 ]\n"
     ]
    }
   ],
   "source": [
    "var s = new Set([1, 2, 3, 1])\n",
    "console.log(s)\n",
    "\n",
    "var arr = Array.from(s)\n",
    "console.log(arr)"
   ]
  }
 ],
 "metadata": {
  "kernelspec": {
   "display_name": "Javascript (Node.js)",
   "language": "javascript",
   "name": "javascript"
  },
  "language_info": {
   "file_extension": ".js",
   "mimetype": "application/javascript",
   "name": "javascript",
   "version": "12.18.1"
  }
 },
 "nbformat": 4,
 "nbformat_minor": 4
}
