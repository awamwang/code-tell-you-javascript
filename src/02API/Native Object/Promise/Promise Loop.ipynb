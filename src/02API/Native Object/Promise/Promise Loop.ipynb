{
 "cells": [
  {
   "cell_type": "markdown",
   "metadata": {},
   "source": [
    "## Promise Loop\n",
    "\n",
    "循环执行多次Promise，并采集结果\n",
    "\n",
    "下面是一个原型实现"
   ]
  },
  {
   "cell_type": "code",
   "execution_count": 1,
   "metadata": {},
   "outputs": [
    {
     "name": "stdout",
     "output_type": "stream",
     "text": [
      "res 0.922001277223002\n"
     ]
    },
    {
     "data": {
      "text/plain": [
       "{ status: 'finished', results: [ 0.922001277223002 ] }"
      ]
     },
     "execution_count": 1,
     "metadata": {},
     "output_type": "execute_result"
    }
   ],
   "source": [
    "class PromiseLoop {\n",
    "  constructor (\n",
    "    limit = Number.MAX_SAFE_INTEGER\n",
    "  ) {\n",
    "    this.limit = limit\n",
    "    this.finished = false\n",
    "  }\n",
    "\n",
    "  finish () {\n",
    "    this.finished = true\n",
    "  }\n",
    "\n",
    "  run (promise) {\n",
    "    let that = this\n",
    "\n",
    "    let todoList = []\n",
    "    todoList.length = this.limit\n",
    "    todoList.fill(promise)\n",
    "\n",
    "    let results = []\n",
    "\n",
    "    return todoList.reduce(function (cur, next) {\n",
    "      return cur.then(next).then((res) => {\n",
    "        results.push(res)\n",
    "        if (that.finished) {\n",
    "          return Promise.reject('finished')\n",
    "        } else {\n",
    "          Promise.resolve(res)\n",
    "        }\n",
    "      })\n",
    "    }, Promise.resolve()).then(function () {\n",
    "      return new Promise((resolve) => {\n",
    "        resolve({\n",
    "          status: 'allFinished',\n",
    "          results: results\n",
    "        })\n",
    "      })\n",
    "    }).catch((res) => {\n",
    "      if (res === 'finished') {\n",
    "        return Promise.resolve({\n",
    "          status: 'finished',\n",
    "          results: results\n",
    "        })\n",
    "      } else {\n",
    "        return Promise.resolve({\n",
    "          status: 'error',\n",
    "          results: res\n",
    "        })\n",
    "      }\n",
    "    })\n",
    "  }\n",
    "}\n",
    "\n",
    "let get = new PromiseLoop(100)\n",
    "\n",
    "let todo = () => {\n",
    "  return new Promise((resolve, reject) => {\n",
    "    setTimeout(() => {\n",
    "      let res = Math.random()\n",
    "      console.log('res', res)\n",
    "      if (res > 0.7) {\n",
    "        get.finish()\n",
    "      }\n",
    "      resolve(res)\n",
    "    }, 1000)\n",
    "  })\n",
    "}\n",
    "\n",
    "get.run(todo)"
   ]
  }
 ],
 "metadata": {
  "kernelspec": {
   "display_name": "Javascript (Node.js)",
   "language": "javascript",
   "name": "javascript"
  },
  "language_info": {
   "file_extension": ".js",
   "mimetype": "application/javascript",
   "name": "javascript",
   "version": "12.18.1"
  }
 },
 "nbformat": 4,
 "nbformat_minor": 4
}
