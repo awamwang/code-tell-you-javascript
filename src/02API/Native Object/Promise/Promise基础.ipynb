{
 "cells": [
  {
   "cell_type": "markdown",
   "metadata": {},
   "source": [
    "# Promise基础"
   ]
  },
  {
   "cell_type": "markdown",
   "metadata": {},
   "source": [
    "## Promise创建\n",
    "\n",
    "```js\n",
    "var promise = new Promise((resolve, reject) => {\n",
    "    \n",
    "})\n",
    "promise.then(successCallback, failureCallback)\n",
    "```"
   ]
  },
  {
   "cell_type": "code",
   "execution_count": 11,
   "metadata": {},
   "outputs": [
    {
     "name": "stdout",
     "output_type": "stream",
     "text": [
      "成功 0.5360447973105802\n",
      "总会执行 undefined\n"
     ]
    }
   ],
   "source": [
    "var myFirstPromise = new Promise(function(resolve, reject){\n",
    "  setTimeout(function () {\n",
    "    var r = Math.random()\n",
    "    if (r > 0.5) {\n",
    "      resolve(r)\n",
    "    } else {\n",
    "      reject(r)\n",
    "    }\n",
    "  }, 250)\n",
    "})\n",
    "\n",
    "myFirstPromise.then((res) => {\n",
    "  console.log('成功', res)\n",
    "}).catch((res) => {\n",
    "  console.log('失败', res)\n",
    "}).finally((res) => {\n",
    "  console.log('总会执行', res)\n",
    "})"
   ]
  },
  {
   "cell_type": "markdown",
   "metadata": {},
   "source": [
    "## Promise prototype\n",
    "\n",
    "注意：这几个原型方法都返回一个`Promise`对象"
   ]
  },
  {
   "cell_type": "markdown",
   "metadata": {},
   "source": [
    "### then\n",
    "\n",
    "支持两个参数，`successCallback`和`failureCallback`，`failureCallback`可以代替`catch`的回调"
   ]
  },
  {
   "cell_type": "code",
   "execution_count": 6,
   "metadata": {},
   "outputs": [
    {
     "name": "stdout",
     "output_type": "stream",
     "text": [
      "失败 0.10077940334380453\n",
      "总会执行 undefined\n"
     ]
    }
   ],
   "source": [
    "var myFirstPromise = new Promise(function(resolve, reject){\n",
    "  setTimeout(function () {\n",
    "    var r = Math.random()\n",
    "    if (r > 0.5) {\n",
    "      resolve(r)\n",
    "    } else {\n",
    "      reject(r)\n",
    "    }\n",
    "  }, 250)\n",
    "})\n",
    "\n",
    "myFirstPromise.then((res) => {\n",
    "  console.log('成功', res)\n",
    "}, (res) => {\n",
    "  console.log('失败', res)\n",
    "}).finally((res) => {\n",
    "  console.log('总会执行', res)\n",
    "})"
   ]
  },
  {
   "cell_type": "markdown",
   "metadata": {},
   "source": [
    "### catch\n",
    "\n",
    "失败情况下执行"
   ]
  },
  {
   "cell_type": "markdown",
   "metadata": {},
   "source": [
    "### finally\n",
    "\n",
    "无论成功失败，总会执行"
   ]
  },
  {
   "cell_type": "markdown",
   "metadata": {},
   "source": [
    "### 链式调用\n",
    "\n",
    "连续执行两个或者多个异步操作是一个常见的需求，在上一个操作执行成功之后，开始下一个的操作，并带着上一步操作所返回的结果\n",
    "\n",
    "> 链式语法的支持也是Promise能解决`回调地狱`的道理所在"
   ]
  },
  {
   "cell_type": "code",
   "execution_count": 12,
   "metadata": {},
   "outputs": [
    {
     "name": "stdout",
     "output_type": "stream",
     "text": [
      "第一步结果 1\n",
      "第二步结果 2\n",
      "第二步出错 3\n",
      "总会执行 undefined\n"
     ]
    }
   ],
   "source": [
    "var p = new Promise((resolve, reject) => {\n",
    "  resolve(1)\n",
    "})\n",
    "\n",
    "p.then((res) => {\n",
    "  console.log('第一步结果', res)\n",
    "  return 2\n",
    "}).then((res) => {\n",
    "  console.log('第二步结果', res)\n",
    "  throw 3\n",
    "}).catch((res) => {\n",
    "  console.log('第二步出错', res)\n",
    "}).finally((res) => {\n",
    "  console.log('总会执行', res)\n",
    "})"
   ]
  },
  {
   "cell_type": "markdown",
   "metadata": {},
   "source": [
    "## 静态方法"
   ]
  },
  {
   "cell_type": "markdown",
   "metadata": {},
   "source": [
    "### all\n",
    "\n",
    "**关键字**：失败即结束\n",
    "\n",
    "Promise.all(iterable) 方法返回一个 Promise 实例，此实例在 iterable 参数内所有的 promise 都“完成（resolved）”或参数中不包含 promise 时回调完成（resolve）；如果参数中  promise 有一个失败（rejected），此实例回调失败（reject），失败的原因是第一个失败 promise 的结果。\n",
    "\n",
    "> 跟`Array.prototype.every`是一个逻辑"
   ]
  },
  {
   "cell_type": "code",
   "execution_count": 13,
   "metadata": {},
   "outputs": [
    {
     "name": "stdout",
     "output_type": "stream",
     "text": [
      "[ 3, 42, 'foo' ]\n"
     ]
    }
   ],
   "source": [
    "const promise1 = Promise.resolve(3);\n",
    "const promise2 = 42;\n",
    "const promise3 = new Promise((resolve, reject) => {\n",
    "  setTimeout(resolve, 100, 'foo');\n",
    "});\n",
    "\n",
    "Promise.all([promise1, promise2, promise3]).then((values) => {\n",
    "  console.log(values);\n",
    "});\n",
    "// expected output: Array [3, 42, \"foo\"]"
   ]
  },
  {
   "cell_type": "code",
   "execution_count": 19,
   "metadata": {},
   "outputs": [
    {
     "data": {
      "text/plain": [
       "Timeout {\n",
       "  _idleTimeout: 1,\n",
       "  _idlePrev: [TimersList],\n",
       "  _idleNext: [TimersList],\n",
       "  _idleStart: 1931511,\n",
       "  _onTimeout: [Function],\n",
       "  _timerArgs: undefined,\n",
       "  _repeat: null,\n",
       "  _destroyed: false,\n",
       "  [Symbol(refed)]: true,\n",
       "  [Symbol(asyncId)]: 195,\n",
       "  [Symbol(triggerId)]: 192\n",
       "}"
      ]
     },
     "execution_count": 19,
     "metadata": {},
     "output_type": "execute_result"
    },
    {
     "name": "stderr",
     "output_type": "stream",
     "text": [
      "(node:22932) UnhandledPromiseRejectionWarning: 555\n",
      "(node:22932) UnhandledPromiseRejectionWarning: Unhandled promise rejection. This error originated either by throwing inside of an async function without a catch block, or by rejecting a promise which was not handled with .catch(). To terminate the node process on unhandled promise rejection, use the CLI flag `--unhandled-rejections=strict` (see https://nodejs.org/api/cli.html#cli_unhandled_rejections_mode). (rejection id: 12)\n"
     ]
    },
    {
     "name": "stdout",
     "output_type": "stream",
     "text": [
      "Promise { [ 1, 2, 3 ] }\n",
      "Promise { [ 1, 2, 3, 444 ] }\n",
      "Promise { <rejected> 555 }\n"
     ]
    }
   ],
   "source": [
    "// this will be counted as if the iterable passed is empty, so it gets fulfilled\n",
    "var p = Promise.all([1,2,3]);\n",
    "// this will be counted as if the iterable passed contains only the resolved promise with value \"444\", so it gets fulfilled\n",
    "var p2 = Promise.all([1,2,3, Promise.resolve(444)]);\n",
    "// this will be counted as if the iterable passed contains only the rejected promise with value \"555\", so it gets rejected\n",
    "var p3 = Promise.all([1,2,3, Promise.reject(555)]);\n",
    "\n",
    "// using setTimeout we can execute code after the stack is empty\n",
    "setTimeout(function(){\n",
    "    console.log(p);\n",
    "    console.log(p2);\n",
    "    console.log(p3);\n",
    "});\n",
    "\n",
    "// logs\n",
    "// Promise { <state>: \"fulfilled\", <value>: Array[3] }\n",
    "// Promise { <state>: \"fulfilled\", <value>: Array[4] }\n",
    "// Promise { <state>: \"rejected\", <reason>: 555 }"
   ]
  }
 ],
 "metadata": {
  "kernelspec": {
   "display_name": "Javascript (Node.js)",
   "language": "javascript",
   "name": "javascript"
  },
  "language_info": {
   "file_extension": ".js",
   "mimetype": "application/javascript",
   "name": "javascript",
   "version": "12.18.1"
  }
 },
 "nbformat": 4,
 "nbformat_minor": 4
}
