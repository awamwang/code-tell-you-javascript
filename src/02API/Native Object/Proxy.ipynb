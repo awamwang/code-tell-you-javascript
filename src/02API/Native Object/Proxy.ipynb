{
 "cells": [
  {
   "cell_type": "markdown",
   "metadata": {},
   "source": [
    "## get handler"
   ]
  },
  {
   "cell_type": "code",
   "execution_count": 1,
   "metadata": {},
   "outputs": [
    {
     "name": "stdout",
     "output_type": "stream",
     "text": [
      "############# 访问原对象 #############\n",
      "访问原对象有的属性 1\n",
      "访问原对象没有的属性 undefined\n",
      "############# 访问代理 #############\n",
      "访问代理对象有的属性 1\n",
      "not get\n",
      "访问代理对象有的属性 undefined\n"
     ]
    }
   ],
   "source": [
    "var ori = {\n",
    "  a: 1\n",
    "}\n",
    "\n",
    "// 客户端要调用的是代理对象，符合代理模式\n",
    "t = new Proxy(ori, {\n",
    "  get(target, key) {\n",
    "    if (key in target) {\n",
    "      return target[key]\n",
    "    } else {\n",
    "      console.log('not get')\n",
    "    }\n",
    "  }\n",
    "})\n",
    "\n",
    "console.log('############# 访问原对象 #############')\n",
    "console.log('访问原对象有的属性', ori.a)\n",
    "console.log('访问原对象没有的属性', ori.b)\n",
    "console.log('############# 访问代理 #############')\n",
    "console.log('访问代理对象有的属性', t.a)\n",
    "console.log('访问代理对象有的属性', t.b)"
   ]
  },
  {
   "cell_type": "code",
   "execution_count": null,
   "metadata": {},
   "outputs": [],
   "source": []
  }
 ],
 "metadata": {
  "kernelspec": {
   "display_name": "Javascript (Node.js)",
   "language": "javascript",
   "name": "javascript"
  },
  "language_info": {
   "file_extension": ".js",
   "mimetype": "application/javascript",
   "name": "javascript",
   "version": "12.13.0"
  }
 },
 "nbformat": 4,
 "nbformat_minor": 4
}
