{
 "cells": [
  {
   "cell_type": "markdown",
   "metadata": {},
   "source": [
    "# IntersectionObserver\n",
    "\n",
    "[MDN 文档](https://developer.mozilla.org/zh-CN/docs/Web/API/IntersectionObserver)"
   ]
  },
  {
   "cell_type": "code",
   "execution_count": 1,
   "metadata": {},
   "outputs": [
    {
     "ename": "ReferenceError",
     "evalue": "IntersectionObserver is not defined",
     "execution_count": 1,
     "output_type": "error",
     "traceback": [
      "evalmachine.<anonymous>:3",
      "var intersectionObserver = new IntersectionObserver(function(entries) {",
      "                           ^",
      "",
      "ReferenceError: IntersectionObserver is not defined",
      "    at evalmachine.<anonymous>:3:28",
      "    at Script.runInThisContext (vm.js:120:20)",
      "    at Object.runInThisContext (vm.js:311:38)",
      "    at run ([eval]:1054:15)",
      "    at onRunRequest ([eval]:888:18)",
      "    at onMessage ([eval]:848:13)",
      "    at process.emit (events.js:315:20)",
      "    at emit (internal/child_process.js:876:12)",
      "    at processTicksAndRejections (internal/process/task_queues.js:85:21)"
     ]
    }
   ],
   "source": [
    "// 先创建一个observer，默认配置，root为顶级的viewport\n",
    "\n",
    "var intersectionObserver = new IntersectionObserver(function(entries) {\n",
    "  // If intersectionRatio is 0, the target is out of view\n",
    "  // and we do not need to do anything.\n",
    "  console.log(entries)\n",
    "  if (entries[0].intersectionRatio <= 0) return;\n",
    "\n",
    "  console.log('Loaded new items');\n",
    "});\n",
    "\n",
    "// 非浏览器环境，不能直接执行"
   ]
  },
  {
   "cell_type": "code",
   "execution_count": null,
   "metadata": {},
   "outputs": [],
   "source": []
  }
 ],
 "metadata": {
  "kernelspec": {
   "display_name": "Javascript (Node.js)",
   "language": "javascript",
   "name": "javascript"
  },
  "language_info": {
   "file_extension": ".js",
   "mimetype": "application/javascript",
   "name": "javascript",
   "version": "12.18.1"
  }
 },
 "nbformat": 4,
 "nbformat_minor": 4
}
