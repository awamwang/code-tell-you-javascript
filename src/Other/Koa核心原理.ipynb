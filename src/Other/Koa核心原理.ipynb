{
 "cells": [
  {
   "cell_type": "markdown",
   "metadata": {},
   "source": [
    "# Koa核心原理\n",
    "\n",
    "koa-compose巧妙利用函数调用栈，完成了栈结果，实现了洋葱模型；推荐通过调试，仔细观察每次入栈和出栈"
   ]
  },
  {
   "cell_type": "code",
   "execution_count": 2,
   "metadata": {},
   "outputs": [
    {
     "name": "stdout",
     "output_type": "stream",
     "text": [
      "1 - req undefined\n",
      "2 - req undefined\n",
      "1 - res undefined\n",
      "3 - req undefined\n",
      "3 - res undefined\n"
     ]
    }
   ],
   "source": [
    "// koa-compose源码 compose函数\n",
    "\n",
    "function compose(middleware) {\n",
    "  if (!Array.isArray(middleware)) throw new TypeError('Middleware stack must be an array!')\n",
    "  for (const fn of middleware) {\n",
    "    if (typeof fn !== 'function') throw new TypeError('Middleware must be composed of functions!')\n",
    "  }\n",
    "\n",
    "  /**\n",
    "   * @param {Object} context\n",
    "   * @return {Promise}\n",
    "   * @api public\n",
    "   */\n",
    "\n",
    "  return function (context, next) {\n",
    "    // last called middleware #\n",
    "    let index = -1\n",
    "    return dispatch(0)\n",
    "    function dispatch(i) {\n",
    "      if (i <= index) return Promise.reject(new Error('next() called multiple times'))\n",
    "      index = i\n",
    "      let fn = middleware[i]\n",
    "      if (i === middleware.length) fn = next\n",
    "      if (!fn) return Promise.resolve()\n",
    "      try {\n",
    "        return Promise.resolve(fn(context, dispatch.bind(null, i + 1)))\n",
    "      } catch (err) {\n",
    "        return Promise.reject(err)\n",
    "      }\n",
    "    }\n",
    "  }\n",
    "}\n",
    "\n",
    "var middlewareList = [\n",
    "  function (ctx, next) {\n",
    "    console.log('1 - req', ctx)\n",
    "    next()\n",
    "    console.log('1 - res', ctx)\n",
    "  },\n",
    "  function (ctx, next) {\n",
    "    console.log('2 - req', ctx)\n",
    "    next()\n",
    "  },\n",
    "  async function (ctx, next) {\n",
    "    await new Promise((resolve, reject) => {\n",
    "      setTimeout(function () {\n",
    "        var r = Math.random()\n",
    "        if (r > 0.5) {\n",
    "          resolve(r)\n",
    "        } else {\n",
    "          reject(r)\n",
    "        }\n",
    "      }, 250)\n",
    "    }).then(() => {\n",
    "      console.log('3 - req', ctx)\n",
    "    })\n",
    "    next()\n",
    "    console.log('3 - res', ctx)\n",
    "  },\n",
    "]\n",
    "\n",
    "var fn = compose(middlewareList)\n",
    "fn()"
   ]
  }
 ],
 "metadata": {
  "kernelspec": {
   "display_name": "Javascript (Node.js)",
   "language": "javascript",
   "name": "javascript"
  },
  "language_info": {
   "file_extension": ".js",
   "mimetype": "application/javascript",
   "name": "javascript",
   "version": "12.18.1"
  }
 },
 "nbformat": 4,
 "nbformat_minor": 4
}
