{
 "cells": [
  {
   "cell_type": "markdown",
   "metadata": {},
   "source": [
    "ES Module\n",
    "\n",
    "1. ES6模块中的值属于【动态只读引用】。\n",
    "2. 对于只读来说，即不允许修改引入变量的值，import的变量是只读的，不论是基本数据类型还是复杂数据类型。当模块遇到import命令时，就会生成一个只读引用。等到脚本真正执行时，再根据这个只读引用，到被加载的那个模块里面去取值。\n",
    "3. 对于动态来说，原始值发生变化，import加载的值也会发生变化。不论是基本数据类型还是复杂数据类型。\n",
    "4. 循环加载（依赖）时，ES6模块是动态引用。只要两个模块之间存在某个引用，代码就能够执行。"
   ]
  },
  {
   "cell_type": "code",
   "execution_count": null,
   "metadata": {},
   "outputs": [
    {
     "ename": "Error",
     "evalue": "Line 4, Character 1\ncounter = {}  // TypeError: Assignment to constant variable.\n^\nTS2539: Cannot assign to 'counter' because it is not a variable.",
     "execution_count": 1,
     "output_type": "error",
     "traceback": [
      "Error: Line 4, Character 1",
      "counter = {}  // TypeError: Assignment to constant variable.",
      "^",
      "TS2539: Cannot assign to 'counter' because it is not a variable.",
      "    at execTranspile (/root/.nvm/versions/node/v12.18.1/lib/node_modules/itypescript/lib/kernel.js:203:27)",
      "    at Session.transpiler [as transpile] (/root/.nvm/versions/node/v12.18.1/lib/node_modules/itypescript/lib/kernel.js:263:37)",
      "    at Session._runNow (/root/.nvm/versions/node/v12.18.1/lib/node_modules/itypescript/node_modules/nel/lib/nel.js:796:39)",
      "    at Session._run (/root/.nvm/versions/node/v12.18.1/lib/node_modules/itypescript/node_modules/nel/lib/nel.js:766:14)",
      "    at Session.execute (/root/.nvm/versions/node/v12.18.1/lib/node_modules/itypescript/node_modules/nel/lib/nel.js:890:10)",
      "    at Kernel.execute_request (/root/.nvm/versions/node/v12.18.1/lib/node_modules/itypescript/node_modules/jp-kernel/lib/handlers_v5.js:116:18)",
      "    at Kernel.onShellMessage (/root/.nvm/versions/node/v12.18.1/lib/node_modules/itypescript/node_modules/jp-kernel/lib/jp-kernel.js:285:41)",
      "    at Socket.<anonymous> (/root/.nvm/versions/node/v12.18.1/lib/node_modules/itypescript/node_modules/jmp/index.js:350:17)",
      "    at Socket.emit (events.js:315:20)",
      "    at Socket._emitMessage (/root/.nvm/versions/node/v12.18.1/lib/node_modules/itypescript/node_modules/zeromq/lib/index.js:640:15)"
     ]
    }
   ],
   "source": [
    "// 描述2\n",
    "\n",
    "import { counter } from './module-es.js'\n",
    "counter = {}  // TypeError: Assignment to constant variable.\n",
    "console.log('module', counter)"
   ]
  },
  {
   "cell_type": "code",
   "execution_count": 2,
   "metadata": {},
   "outputs": [
    {
     "data": {
      "text/html": [
       "<div style='background:#ffecb3;padding:1em;border-left:2px solid #ff6d00'><b>Configuration is not found!</b> Default configuration will be used: <pre>{\"module\":1,\"target\":1,\"moduleResolution\":2,\"esModuleInterop\":true}</pre></div>"
      ]
     },
     "execution_count": 2,
     "metadata": {},
     "output_type": "execute_result"
    }
   ],
   "source": [
    "// 这样可以一直依赖下去，描述4\n",
    "\n",
    "import './es循环依赖2/a.js'"
   ]
  },
  {
   "cell_type": "code",
   "execution_count": 3,
   "metadata": {},
   "outputs": [
    {
     "data": {
      "text/plain": [
       "undefined"
      ]
     },
     "execution_count": 3,
     "metadata": {},
     "output_type": "execute_result"
    }
   ],
   "source": [
    "// import {main} from './es循环依赖/a.js'\n",
    "// console.log('sfs')\n",
    "// main()"
   ]
  }
 ],
 "metadata": {
  "kernelspec": {
   "display_name": "Typescript 3.9",
   "language": "typescript",
   "name": "typescript"
  },
  "language_info": {
   "file_extension": ".ts",
   "mimetype": "application/x-typescript",
   "name": "typescript",
   "version": "3.9.7"
  }
 },
 "nbformat": 4,
 "nbformat_minor": 4
}
