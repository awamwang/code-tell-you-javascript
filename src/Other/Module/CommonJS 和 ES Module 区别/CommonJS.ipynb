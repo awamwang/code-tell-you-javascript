{
 "cells": [
  {
   "cell_type": "markdown",
   "metadata": {},
   "source": [
    "CommonJS模块\n",
    "\n",
    "直接用别人的东西了，参考了：\n",
    "- [CommonJS模块和ES6模块的区别 - 凯斯keith - 博客园](https://www.cnblogs.com/unclekeith/archive/2017/10/17/7679503.html)\n",
    "\n",
    "1. 对于基本数据类型，属于复制。即会被模块【**缓存**】。同时，在另一个模块可以对该模块输出的变量重新赋值。\n",
    "2. 对于复杂数据类型，属于【**浅拷贝**】（即引用）。**注意**：由于两个模块引用的对象指向同一个内存空间，因此对该模块的值做修改时会影响另一个模块。\n",
    "3. 当使用require命令加载某个模块时，就会运行整个模块的代码。\n",
    "4. 当使用require命令加载同一个模块时，不会再执行该模块，而是取到【**缓存**】之中的值。也就是说，CommonJS模块无论加载多少次，都只会在第一次加载时运行一次，以后再加载，就返回第一次运行的结果，除非手动清除系统缓存。\n",
    "5. 循环加载（依赖）时，属于加载时执行。即脚本代码在require的时候，就会全部执行。一旦出现某个模块被\"循环加载\"，就只输出已经执行的部分，还未执行的部分不会输出。\n"
   ]
  },
  {
   "cell_type": "code",
   "execution_count": 1,
   "metadata": {},
   "outputs": [
    {
     "name": "stdout",
     "output_type": "stream",
     "text": [
      "代码执行\n",
      "index.js 初次导入 - mod.count 1\n",
      "index.js 初次导入 - mod.friends [ '元素1' ]\n",
      "index.js 执行 mod.plusCount/plusYuanhua 后 - mod.count 1\n",
      "index.js 执行 mod.plusCount/plusYuanhua 后 - mod.friends [ '元素1', '元素2' ]\n"
     ]
    }
   ],
   "source": [
    "var mod = require('./module.js');\n",
    "\n",
    "console.log('index.js 初次导入 - mod.count', mod.count);\n",
    "console.log('index.js 初次导入 - mod.friends', mod.friends);\n",
    "\n",
    "mod.plusCount();\n",
    "mod.plusYuanhua();\n",
    "\n",
    "console.log('index.js 执行 mod.plusCount/plusYuanhua 后 - mod.count', mod.count);\n",
    "console.log('index.js 执行 mod.plusCount/plusYuanhua 后 - mod.friends', mod.friends);\n",
    "\n",
    "var timer = setTimeout(() => {\n",
    "  // 这里修改导入的count，可以修改，但不会影响到module中，描述1\n",
    "  mod.count = 3; \n",
    "  console.log('index.js 延时2s - mod.count', mod.count);\n",
    "  // 这里修改导入的friends，可以修改，会影响到module中的friends，描述2\n",
    "  mod.friends.push('元素3')\n",
    "  console.log('index.js 延时2s - mod.friends', mod.friends);\n",
    "}, 2000)"
   ]
  },
  {
   "cell_type": "code",
   "execution_count": 2,
   "metadata": {},
   "outputs": [
    {
     "name": "stdout",
     "output_type": "stream",
     "text": [
      "再次引入\n",
      "module 每秒打印 - count 2\n",
      "module 每秒打印 - friends [ '元素1', '元素2' ]\n",
      "module 每秒打印 - count 2\n",
      "module 每秒打印 - friends [ '元素1', '元素2' ]\n",
      "index.js 延时2s - mod.count 3\n",
      "index.js 延时2s - mod.friends [ '元素1', '元素2', '元素3' ]\n",
      "module 每秒打印 - count 2\n",
      "module 每秒打印 - friends [ '元素1', '元素2', '元素3' ]\n",
      "module 每秒打印 - count 2\n",
      "module 每秒打印 - friends [ '元素1', '元素2', '元素3' ]\n"
     ]
    }
   ],
   "source": [
    "// 这里再次require module，module中\"代码执行\"打印再次不会执行，描述4\n",
    "var mod = require('./module.js');\n",
    "console.log('再次引入')\n",
    "// 之前的异步打印出现在这个cell下面"
   ]
  },
  {
   "cell_type": "code",
   "execution_count": 1,
   "metadata": {},
   "outputs": [
    {
     "name": "stdout",
     "output_type": "stream",
     "text": [
      "modB.js-1 a.done = false\n",
      "modB.js-2 执行完毕\n",
      "modA.js-1 b.done = true\n",
      "modA.js-2 执行完毕\n",
      "index.js-1 执行完毕 true true\n"
     ]
    }
   ],
   "source": [
    "// 循环依赖情况，描述5(但貌似结果与理解不一致，在node里面执行也是相同结果？？？)\n",
    "\n",
    "var a = require('./modA.js')\n",
    "console.log('index.js-1', '执行完毕', a.done, a.b.done)"
   ]
  }
 ],
 "metadata": {
  "kernelspec": {
   "display_name": "Javascript (Node.js)",
   "language": "javascript",
   "name": "javascript"
  },
  "language_info": {
   "file_extension": ".js",
   "mimetype": "application/javascript",
   "name": "javascript",
   "version": "12.13.0"
  }
 },
 "nbformat": 4,
 "nbformat_minor": 4
}
