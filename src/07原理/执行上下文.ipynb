{
 "cells": [
  {
   "cell_type": "markdown",
   "metadata": {},
   "source": [
    "# 执行上下文"
   ]
  },
  {
   "cell_type": "markdown",
   "metadata": {},
   "source": [
    "## 关于执行上下文的debug体现"
   ]
  },
  {
   "cell_type": "code",
   "execution_count": 1,
   "metadata": {},
   "outputs": [
    {
     "name": "stdout",
     "output_type": "stream",
     "text": [
      "globall1l2\n"
     ]
    }
   ],
   "source": [
    "var g = 'global'\n",
    "\n",
    "function func () {\n",
    "  var l1 = 'l1'\n",
    "\n",
    "  function innerFunc() {\n",
    "    debugger // debugger 1\n",
    "    var l2 = 'l2'\n",
    "\n",
    "    let str = g + l1 + l2\n",
    "    debugger // debugger 2\n",
    "    console.log(str)\n",
    "  }\n",
    "\n",
    "  innerFunc()\n",
    "}\n",
    "\n",
    "func()"
   ]
  },
  {
   "cell_type": "markdown",
   "metadata": {},
   "source": [
    "- 在`debugger 1`处，看到了三层执行上下文（2个函数的，加1个全局的）\n",
    "- 还能注意到，这时的`l2`和`str`都为`undefined`，这是变量提升的作用（疑问：为什么已经有了`str`）\n",
    "\n",
    "![debugger 1](https://awam-image.oss-cn-chengdu.aliyuncs.com/images1608797287328.png)"
   ]
  },
  {
   "cell_type": "markdown",
   "metadata": {},
   "source": [
    "在`debugger 2`处，`l2`和`str`已经有值\n",
    "\n",
    "![debugger 2](https://awam-image.oss-cn-chengdu.aliyuncs.com/images1608799865582.png)"
   ]
  }
 ],
 "metadata": {
  "kernelspec": {
   "display_name": "Javascript (Node.js)",
   "language": "javascript",
   "name": "javascript"
  },
  "language_info": {
   "file_extension": ".js",
   "mimetype": "application/javascript",
   "name": "javascript",
   "version": "12.18.1"
  }
 },
 "nbformat": 4,
 "nbformat_minor": 4
}
