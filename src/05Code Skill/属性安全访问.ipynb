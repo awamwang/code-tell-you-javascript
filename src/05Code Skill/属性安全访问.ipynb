{
 "cells": [
  {
   "cell_type": "markdown",
   "metadata": {},
   "source": [
    "## 属性安全访问\n",
    "\n",
    "封装一个访问对象属性的方法，可以避免空对象属性访问异常"
   ]
  },
  {
   "cell_type": "code",
   "execution_count": 1,
   "metadata": {},
   "outputs": [
    {
     "name": "stdout",
     "output_type": "stream",
     "text": [
      "结果: 2\n",
      "结果: undefined\n"
     ]
    }
   ],
   "source": [
    "var { displayRes } = require('utils')\n",
    "\n",
    "var property = function (key) {\n",
    "  return function (obj) {\n",
    "    // void 0 是undefined的更安全写法，可以避免undefined这个全局属性被修改后产生错误\n",
    "    return obj == null ? void 0 : obj[key]\n",
    "  }\n",
    "}\n",
    "\n",
    "var getLength = property('length')\n",
    "displayRes(getLength([1, 1]))\n",
    "displayRes(property('a')(null))"
   ]
  }
 ],
 "metadata": {
  "kernelspec": {
   "display_name": "Javascript (Node.js)",
   "language": "javascript",
   "name": "javascript"
  },
  "language_info": {
   "file_extension": ".js",
   "mimetype": "application/javascript",
   "name": "javascript",
   "version": "12.13.0"
  }
 },
 "nbformat": 4,
 "nbformat_minor": 4
}
