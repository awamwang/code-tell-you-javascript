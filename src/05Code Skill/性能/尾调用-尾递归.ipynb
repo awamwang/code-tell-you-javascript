{
 "cells": [
  {
   "cell_type": "markdown",
   "metadata": {},
   "source": [
    "## 尾调用\n",
    "\n",
    "尾调用就是指某个函数的**最后一步**（尾）是调用另一个函数，注意是执行上的“最后一步”，不一定是最后一行代码。"
   ]
  },
  {
   "cell_type": "code",
   "execution_count": 3,
   "metadata": {},
   "outputs": [
    {
     "name": "stdout",
     "output_type": "stream",
     "text": [
      "some code\n"
     ]
    },
    {
     "data": {
      "text/plain": [
       "'run func1'"
      ]
     },
     "execution_count": 3,
     "metadata": {},
     "output_type": "execute_result"
    }
   ],
   "source": [
    "function func1() {\n",
    "  return 'run func1'\n",
    "}\n",
    "\n",
    "function tailCall() {\n",
    "  console.log('some code')\n",
    "\n",
    "  return func1() // 不能在其他位置；不能混合其他操作，例如`func1() + 1`\n",
    "}\n",
    "\n",
    "tailCall()"
   ]
  },
  {
   "cell_type": "markdown",
   "metadata": {},
   "source": [
    "## 尾递归\n",
    "\n",
    "在尾部调用的是函数自身"
   ]
  },
  {
   "cell_type": "code",
   "execution_count": 2,
   "metadata": {},
   "outputs": [],
   "source": [
    "let i = 1000\n",
    "let sum = 0"
   ]
  },
  {
   "cell_type": "code",
   "execution_count": 68,
   "metadata": {},
   "outputs": [
    {
     "name": "stdout",
     "output_type": "stream",
     "text": [
      "n = 1 ; memory used: 984\n",
      "4288\n",
      "54\n",
      "recursiveTailCall: 0.199ms\n",
      "55\n",
      "iteration: 0.043ms\n"
     ]
    }
   ],
   "source": [
    "i = 10, sum = 0\n",
    "// TODO 统计内存使用，调用栈大小\n",
    "// var startMem = v8.getHeapStatistics().used_heap_size\n",
    "\n",
    "function recursiveTailCall(n, pre = 0) {\n",
    "  if (n === 1) {\n",
    "//     console.log('n =', n, '; memory used:', v8.getHeapStatistics().used_heap_size - startMem)\n",
    "    return pre\n",
    "  }\n",
    "//   let a = {a: 1, b: 2}\n",
    "\n",
    "  return recursiveTailCall(n - 1, n + pre) // 只有参数可以\n",
    "}\n",
    "\n",
    "console.time('recursiveTailCall')\n",
    "console.log(recursiveTailCall(i))\n",
    "console.timeEnd('recursiveTailCall')\n",
    "\n",
    "console.time('iteration')\n",
    "for (; i >= 0; i--) {\n",
    "  sum += i\n",
    "}\n",
    "console.log(sum)\n",
    "console.timeEnd('iteration')\n"
   ]
  },
  {
   "cell_type": "markdown",
   "metadata": {},
   "source": [
    "## 尾调用优化\n",
    "\n",
    "### 节省内存\n",
    "\n",
    "尾调用由于是函数的最后一步操作，所以不需要保留外层函数的调用记录，因为调用位置、内部变量等信息都不会再用到了，只要直接用内层函数的调用记录，取代外层函数的调用记录就可以了。"
   ]
  },
  {
   "cell_type": "markdown",
   "metadata": {},
   "source": [
    "## 尾递归优化\n",
    "\n",
    "递归调用会产生多层调用栈，并且可能溢出，将递归调用写成尾调用的形式，就能很好的优化内存，这叫“尾递归优化”。\n",
    "\n",
    "### JavaScript尾递归优化\n",
    "\n",
    "JavaScript默认不启用尾递归优化，需要启用严格模式。"
   ]
  },
  {
   "cell_type": "code",
   "execution_count": 69,
   "metadata": {},
   "outputs": [
    {
     "name": "stdout",
     "output_type": "stream",
     "text": [
      "n = 1 ; memory used: 464\n",
      "3768\n",
      "500499\n",
      "recursiveTailCall: 0.218ms\n",
      "500500\n",
      "iteration: 0.080ms\n"
     ]
    }
   ],
   "source": [
    "'use strict';\n",
    "\n",
    "i = 1000, sum = 0\n",
    "var startMem = v8.getHeapStatistics().used_heap_size\n",
    "\n",
    "console.time('recursiveTailCall')\n",
    "console.log(recursiveTailCall(i))\n",
    "console.timeEnd('recursiveTailCall')\n",
    "\n",
    "console.time('iteration')\n",
    "for (; i >= 0; i--) {\n",
    "  sum += i\n",
    "}\n",
    "console.log(sum)\n",
    "console.timeEnd('iteration')"
   ]
  }
 ],
 "metadata": {
  "kernelspec": {
   "display_name": "Javascript (Node.js)",
   "language": "javascript",
   "name": "javascript"
  },
  "language_info": {
   "file_extension": ".js",
   "mimetype": "application/javascript",
   "name": "javascript",
   "version": "12.13.0"
  }
 },
 "nbformat": 4,
 "nbformat_minor": 4
}
