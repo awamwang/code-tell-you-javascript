{
 "cells": [
  {
   "cell_type": "markdown",
   "metadata": {},
   "source": [
    "# try catch 对代码运行的性能影响\n",
    "\n",
    "参考：https://blog.csdn.net/shmnh/article/details/52445186\n",
    "转载：http://taobaofed.org/blog/2015/10/28/try-catch-runing-problem/\n",
    "\n",
    "把文章的示例代码转为可在线运行"
   ]
  },
  {
   "cell_type": "code",
   "execution_count": 3,
   "metadata": {},
   "outputs": [
    {
     "name": "stdout",
     "output_type": "stream",
     "text": [
      "空白组1：[无 try catch 的情况下对数据取模1千万次耗时]: 242.365ms\n"
     ]
    }
   ],
   "source": [
    "// 空白组1：[无 try catch 的情况下对数据取模1千万次耗时]\n",
    "\n",
    "console.time('空白组1：[无 try catch 的情况下对数据取模1千万次耗时]')\n",
    "\n",
    "//耗时代码开始\n",
    "for (var i = 0; i < 100000000; i++) {\n",
    "    var p = i % 2;\n",
    "}\n",
    "//耗时代码结束\n",
    "console.timeEnd('空白组1：[无 try catch 的情况下对数据取模1千万次耗时]')"
   ]
  },
  {
   "cell_type": "code",
   "execution_count": 6,
   "metadata": {},
   "outputs": [
    {
     "name": "stdout",
     "output_type": "stream",
     "text": [
      "参照组2：[将耗时代码用 try 包围，内联耗时代码]: 242.641ms\n"
     ]
    }
   ],
   "source": [
    "// 参照组2：[将耗时代码用 try 包围，内联耗时代码]\n",
    "\n",
    "console.time('参照组2：[将耗时代码用 try 包围，内联耗时代码]')\n",
    "\n",
    "try {\n",
    "    //耗时代码开始\n",
    "    for (var i = 0; i < 100000000; i++) {\n",
    "        var p = i % 2;\n",
    "    }\n",
    "    //耗时代码结束\n",
    "    throw new Error();\n",
    "} catch(e) {\n",
    "\n",
    "}\n",
    "\n",
    "console.timeEnd('参照组2：[将耗时代码用 try 包围，内联耗时代码]')"
   ]
  },
  {
   "cell_type": "code",
   "execution_count": 7,
   "metadata": {},
   "outputs": [
    {
     "name": "stdout",
     "output_type": "stream",
     "text": [
      "参照组3：[将耗时代码用 try 包围，外联耗时代码]: 63.297ms\n"
     ]
    }
   ],
   "source": [
    "// 参照组3：[将耗时代码用 try 包围，外联耗时代码]\n",
    "\n",
    "console.time('参照组3：[将耗时代码用 try 包围，外联耗时代码]')\n",
    "\n",
    "function run(){\n",
    "    //耗时代码开始\n",
    "    for (var i = 0; i < 100000000; i++) {\n",
    "        var p = i % 2;\n",
    "    }\n",
    "    //耗时代码结束\n",
    "}\n",
    "//在 try 中内联代码的耗时情况\n",
    "var t = new Date();\n",
    "try {\n",
    "    run();\n",
    "    throw new Error();\n",
    "} catch(e) {\n",
    "\n",
    "}\n",
    "\n",
    "console.timeEnd('参照组3：[将耗时代码用 try 包围，外联耗时代码]')"
   ]
  },
  {
   "cell_type": "code",
   "execution_count": 9,
   "metadata": {},
   "outputs": [
    {
     "name": "stdout",
     "output_type": "stream",
     "text": [
      "参照组4：[将耗时代码用 catch 包围，内联耗时代码]: 246.630ms\n"
     ]
    }
   ],
   "source": [
    "// 参照组4：[将耗时代码用 catch 包围，内联耗时代码]\n",
    "\n",
    "console.time('参照组4：[将耗时代码用 catch 包围，内联耗时代码]')\n",
    "\n",
    "//在 catch 中内联代码的耗时情况\n",
    "var t = new Date();\n",
    "try {\n",
    "    throw new Error();\n",
    "} catch(e) {\n",
    "    //耗时代码开始\n",
    "    for (var i = 0; i < 100000000; i++) {\n",
    "        var p = i % 2;\n",
    "    }\n",
    "    //耗时代码结束\n",
    "\n",
    "}\n",
    "\n",
    "console.timeEnd('参照组4：[将耗时代码用 catch 包围，内联耗时代码]')"
   ]
  },
  {
   "cell_type": "code",
   "execution_count": 10,
   "metadata": {},
   "outputs": [
    {
     "name": "stdout",
     "output_type": "stream",
     "text": [
      "参照组5：[将耗时代码用 catch 包围，外联耗时代码]: 62.924ms\n"
     ]
    }
   ],
   "source": [
    "// 参照组5：[将耗时代码用 catch 包围，外联耗时代码]\n",
    "\n",
    "console.time('参照组5：[将耗时代码用 catch 包围，外联耗时代码]')\n",
    "\n",
    "function run(){\n",
    "    //耗时代码开始\n",
    "    for (var i = 0; i < 100000000; i++) {\n",
    "        var p = i % 2;\n",
    "    }\n",
    "    //耗时代码结束\n",
    "}\n",
    "//在 catch 中内联代码的耗时情况\n",
    "var t = new Date();\n",
    "try {\n",
    "    throw new Error();\n",
    "} catch (e){\n",
    "    run();\n",
    "}\n",
    "\n",
    "console.timeEnd('参照组5：[将耗时代码用 catch 包围，外联耗时代码]')"
   ]
  },
  {
   "cell_type": "code",
   "execution_count": 1,
   "metadata": {},
   "outputs": [
    {
     "name": "stdout",
     "output_type": "stream",
     "text": [
      "另一维度空白: 3.082ms\n"
     ]
    }
   ],
   "source": [
    "// 另一维度空白\n",
    "\n",
    "console.time('另一维度空白')\n",
    "\n",
    "//耗时代码开始\n",
    "for (var i = 0; i < 100000; i++) {\n",
    "  var p = i % 2\n",
    "}\n",
    "//耗时代码结束\n",
    "\n",
    "console.timeEnd('另一维度空白')"
   ]
  },
  {
   "cell_type": "code",
   "execution_count": 2,
   "metadata": {},
   "outputs": [
    {
     "name": "stdout",
     "output_type": "stream",
     "text": [
      "另一维度1：在循环中每次都进行try catch操作: 1353.541ms\n"
     ]
    }
   ],
   "source": [
    "// 另一维度1：在循环中每次都进行try catch操作\n",
    "\n",
    "console.time('另一维度1：在循环中每次都进行try catch操作')\n",
    "\n",
    "//耗时代码开始\n",
    "for (var i = 0; i < 100000; i++) {\n",
    "  try {\n",
    "    var p = i % 2\n",
    "    throw new Error()\n",
    "  } catch (e) {}\n",
    "}\n",
    "//耗时代码结束\n",
    "\n",
    "console.timeEnd('另一维度1：在循环中每次都进行try catch操作')"
   ]
  },
  {
   "cell_type": "markdown",
   "metadata": {},
   "source": [
    "## 结论\n",
    "\n",
    "+ 使用 try catch 的使用无论是在 try 中的代码还是在 catch 中的代码性能消耗都是一样的。\n",
    "+ 需要注意的性能消耗在于 try catch 中不要直接塞进去太多的代码（声明太多的变量），最好是吧所有要执行的代码放在另一个 function 中，通过调用这个 function 来执行。\n",
    "+ try catch还是对性能有一定损耗，尽量不要在循环体中进行try catch操作，一般来说没有必要"
   ]
  }
 ],
 "metadata": {
  "kernelspec": {
   "display_name": "Javascript (Node.js)",
   "language": "javascript",
   "name": "javascript"
  },
  "language_info": {
   "file_extension": ".js",
   "mimetype": "application/javascript",
   "name": "javascript",
   "version": "12.13.0"
  }
 },
 "nbformat": 4,
 "nbformat_minor": 4
}
