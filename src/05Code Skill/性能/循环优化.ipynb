{
 "cells": [
  {
   "cell_type": "markdown",
   "metadata": {},
   "source": [
    "## 无操作循环效率"
   ]
  },
  {
   "cell_type": "code",
   "execution_count": 6,
   "metadata": {},
   "outputs": [
    {
     "name": "stdout",
     "output_type": "stream",
     "text": [
      "一般循环: 0.526ms\n",
      "倒序循环: 0.404ms\n",
      "for of 循环: 1.861ms\n",
      "foreach 循环: 0.316ms\n"
     ]
    }
   ],
   "source": [
    "var len = 10000\n",
    "\n",
    "var arr = Array.apply(null, { length: len }).fill(1)\n",
    "\n",
    "var i = 0,\n",
    "  sum = 0\n",
    "\n",
    "console.time('一般循环')\n",
    "for (; i < arr.length; i++) {\n",
    "  // sum += arr[i]\n",
    "}\n",
    "console.timeEnd('一般循环')\n",
    "\n",
    "i = len - 1, sum = 0\n",
    "console.time('倒序循环')\n",
    "for (; i >= 0; i--) {\n",
    "  // sum += arr[i]\n",
    "}\n",
    "console.timeEnd('倒序循环')\n",
    "\n",
    "sum = 0\n",
    "console.time('for of 循环')\n",
    "for (var v of arr) {\n",
    "  // sum += v\n",
    "}\n",
    "console.timeEnd('for of 循环')\n",
    "\n",
    "sum = 0\n",
    "console.time('foreach 循环')\n",
    "arr.forEach(v => {\n",
    "  // sum += v\n",
    "})\n",
    "console.timeEnd('foreach 循环')"
   ]
  },
  {
   "cell_type": "markdown",
   "metadata": {},
   "source": [
    "## 有操作循环效率"
   ]
  },
  {
   "cell_type": "code",
   "execution_count": 7,
   "metadata": {},
   "outputs": [
    {
     "name": "stdout",
     "output_type": "stream",
     "text": [
      "一般循环: 0.665ms\n",
      "倒序循环: 0.647ms\n",
      "for of 循环: 1.618ms\n",
      "foreach 循环: 0.602ms\n"
     ]
    }
   ],
   "source": [
    "var len = 10000\n",
    "\n",
    "var arr = Array.apply(null, { length: len }).fill(1)\n",
    "\n",
    "var i = 0,\n",
    "  sum = 0\n",
    "\n",
    "console.time('一般循环')\n",
    "for (; i < arr.length; i++) {\n",
    "  sum += arr[i]\n",
    "}\n",
    "console.timeEnd('一般循环')\n",
    "\n",
    "i = len - 1, sum = 0\n",
    "console.time('倒序循环')\n",
    "for (; i >= 0; i--) {\n",
    "  sum += arr[i]\n",
    "}\n",
    "console.timeEnd('倒序循环')\n",
    "\n",
    "sum = 0\n",
    "console.time('for of 循环')\n",
    "for (var v of arr) {\n",
    "  sum += v\n",
    "}\n",
    "console.timeEnd('for of 循环')\n",
    "\n",
    "sum = 0\n",
    "console.time('foreach 循环')\n",
    "arr.forEach(v => {\n",
    "  sum += v\n",
    "})\n",
    "console.timeEnd('foreach 循环')"
   ]
  },
  {
   "cell_type": "code",
   "execution_count": null,
   "metadata": {},
   "outputs": [],
   "source": [
    "一般来说foreach循环会效率最佳"
   ]
  }
 ],
 "metadata": {
  "kernelspec": {
   "display_name": "Javascript (Node.js)",
   "language": "javascript",
   "name": "javascript"
  },
  "language_info": {
   "file_extension": ".js",
   "mimetype": "application/javascript",
   "name": "javascript",
   "version": "12.13.0"
  }
 },
 "nbformat": 4,
 "nbformat_minor": 4
}
