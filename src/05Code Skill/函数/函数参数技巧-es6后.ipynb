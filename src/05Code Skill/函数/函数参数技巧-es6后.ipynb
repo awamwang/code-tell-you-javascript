{
 "cells": [
  {
   "cell_type": "markdown",
   "metadata": {},
   "source": [
    "## 变长参数\n",
    "\n",
    "也叫不定长度参数，参数数目可能有变化，数目不同时对参数的处理不同（这里不讨论不限长度的剩余参数情况）\n",
    "\n",
    "> 只对变成参数这一点，ES6没有更好办法，但是可以考虑把扁平的多个参数使用对象参数整合起来"
   ]
  },
  {
   "cell_type": "code",
   "execution_count": 3,
   "metadata": {},
   "outputs": [
    {
     "name": "stdout",
     "output_type": "stream",
     "text": [
      "url: url-example1 , data: undefined , options: { a: 1 }\n",
      "url: url-example2 , data: 今天好吗 , options: { a: 1 }\n"
     ]
    }
   ],
   "source": [
    "function request(options) {\n",
    "  var url = options.url\n",
    "  var data = options.data\n",
    "  var opts = options.options\n",
    "  \n",
    "  console.log('url:', url, ', data:', data, ', options:', opts)\n",
    "}\n",
    "\n",
    "\n",
    "request({url: 'url-example1', options: {a: 1}})\n",
    "request({url: 'url-example2', data: '今天好吗', options: {a: 1}})"
   ]
  },
  {
   "cell_type": "markdown",
   "metadata": {},
   "source": [
    "## 剩余参数\n",
    "\n",
    "也属于变长参数，这种情况更多是可选参数数目>=2，并且逻辑上类型一致（可以它们进行统一的处理）。\n",
    "\n",
    "> 在ES6中，使用剩余参数声明`...args`配合展开操作符`...`，处理剩余参数非常方便"
   ]
  },
  {
   "cell_type": "code",
   "execution_count": 4,
   "metadata": {},
   "outputs": [
    {
     "name": "stdout",
     "output_type": "stream",
     "text": [
      "结果: 6\n",
      "结果: 10\n"
     ]
    }
   ],
   "source": [
    "var { displayRes } = require('utils')\n",
    "\n",
    "function sum(a, b, ...args) {\n",
    "  // 可能先判断a, b为必选\n",
    "  \n",
    "  return [a, b].concat(args).reduce((pre, curr) => pre + curr)\n",
    "}\n",
    "\n",
    "displayRes(sum(1, 2, 3))\n",
    "displayRes(sum(1, 2, 3, 4))"
   ]
  },
  {
   "cell_type": "markdown",
   "metadata": {},
   "source": [
    "## 参数默认值\n",
    "\n",
    "一些参数设计为非必选，同时为了方便调用，会给一些非必选参数设置默认值\n",
    "\n",
    "> ES6中，在声明函数参数时，就可以很方便的设置默认值，非常方便"
   ]
  },
  {
   "cell_type": "code",
   "execution_count": 5,
   "metadata": {},
   "outputs": [
    {
     "name": "stdout",
     "output_type": "stream",
     "text": [
      "结果: [ 1, 5 ]\n"
     ]
    }
   ],
   "source": [
    "var { displayRes } = require('utils')\n",
    "// 该函数支持两个参数，a我必选参数，b是有默认值的可选参数\n",
    "\n",
    "function func1 (a, b = 5) {\n",
    "  if (a === void(0)) {\n",
    "    throw new Error('param a is required')\n",
    "  }\n",
    "  \n",
    "  return [a, b]\n",
    "}\n",
    "\n",
    "displayRes(func1(1))"
   ]
  },
  {
   "cell_type": "markdown",
   "metadata": {},
   "source": [
    "## 参数类型检查\n",
    "\n",
    "根据传入参数的不同类型，应用不同的处理逻辑\n",
    "\n",
    "> ES6中，类型检查也还是需要手动进行；变长且需要类型检查的情况，可以考虑将参数整合到一个对象中，[变长参数](#变长参数)"
   ]
  },
  {
   "cell_type": "markdown",
   "metadata": {},
   "source": [
    "## 柯里化\n",
    "\n",
    "[柯里化](./柯里化-curry.ipynb)"
   ]
  }
 ],
 "metadata": {
  "kernelspec": {
   "display_name": "Javascript (Node.js)",
   "language": "javascript",
   "name": "javascript"
  },
  "language_info": {
   "file_extension": ".js",
   "mimetype": "application/javascript",
   "name": "javascript",
   "version": "12.13.0"
  }
 },
 "nbformat": 4,
 "nbformat_minor": 4
}
