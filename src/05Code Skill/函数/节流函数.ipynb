{
 "cells": [
  {
   "cell_type": "markdown",
   "metadata": {},
   "source": [
    "# 节流函数\n",
    "\n",
    "传入一个函数，返回一个间隔一定时间执行的函数"
   ]
  },
  {
   "cell_type": "code",
   "execution_count": 2,
   "metadata": {},
   "outputs": [
    {
     "name": "stdout",
     "output_type": "stream",
     "text": [
      "\n",
      "1 11\n",
      "2 214\n",
      "3 416\n",
      "4 625\n",
      "5 827\n",
      "6 1029\n",
      "7 1231\n",
      "8 1433\n",
      "9 1635\n",
      "10 1837\n",
      "11 2039\n"
     ]
    }
   ],
   "source": [
    "// 基础的实现\n",
    "\n",
    "function throttle(fn, interval = 200) {\n",
    "  let lastRun = 0\n",
    "\n",
    "  return function run() {\n",
    "    if (new Date() - lastRun > interval) {\n",
    "      lastRun = new Date()\n",
    "      return fn()\n",
    "    }\n",
    "  }\n",
    "}\n",
    "\n",
    "let i = 0\n",
    "let time = new Date()\n",
    "function func() {\n",
    "  console.log(++i, new Date() - time)\n",
    "}\n",
    "\n",
    "let throttledFunc = throttle(func)\n",
    "setInterval(throttledFunc, 10)\n",
    "console.log('')"
   ]
  }
 ],
 "metadata": {
  "kernelspec": {
   "display_name": "Javascript (Node.js)",
   "language": "javascript",
   "name": "javascript"
  },
  "language_info": {
   "file_extension": ".js",
   "mimetype": "application/javascript",
   "name": "javascript",
   "version": "12.18.1"
  }
 },
 "nbformat": 4,
 "nbformat_minor": 4
}
