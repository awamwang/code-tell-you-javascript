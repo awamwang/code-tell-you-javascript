{
 "cells": [
  {
   "cell_type": "markdown",
   "metadata": {},
   "source": [
    "## 变长参数\n",
    "\n",
    "也叫不定长度参数，参数数目可能有变化，数目不同时对参数的处理不同（这里不讨论不限长度的剩余参数情况）"
   ]
  },
  {
   "cell_type": "code",
   "execution_count": 16,
   "metadata": {},
   "outputs": [
    {
     "name": "stdout",
     "output_type": "stream",
     "text": [
      "url: url-example1 , options: { a: 1 } (如果传入2个参数，我们把它们当做`url`和`options`)\n",
      "url: url-example2 , data: 今天好吗 , options: { a: 1 } (如果传入3个参数，我们把它们当做`url`和`options`)\n",
      "备注：剩余switch语句来处理不同情况，也是一种好的实践\n"
     ]
    }
   ],
   "source": [
    "function request(url, data, options) {\n",
    "  // 这个函数设计为，\n",
    "  if (arguments.length === 2) {\n",
    "    // 如果传入2个参数，我们把它们当做`url`和`options`\n",
    "    options = data\n",
    "    data = undefined\n",
    "    console.log('url:', url, ', options:', options, '(如果传入2个参数，我们把它们当做`url`和`options`)')\n",
    "  } else if (arguments.length === 3) {\n",
    "    // 如果传入3个参数，我们把它们当做`url`和`options`\n",
    "    console.log('url:', url, ', data:', data, ', options:', options, '(如果传入3个参数，我们把它们当做`url`和`options`)')\n",
    "  } else {\n",
    "    // 根据需要处理\n",
    "  }\n",
    "}\n",
    "\n",
    "\n",
    "request('url-example1', {a: 1})\n",
    "request('url-example2', '今天好吗', {a: 1})\n",
    "console.log('备注：剩余switch语句来处理不同情况，也是一种好的实践')"
   ]
  },
  {
   "cell_type": "markdown",
   "metadata": {},
   "source": [
    "## 剩余参数\n",
    "\n",
    "也属于变长参数，这种情况更多是可选参数数目>=2，并且逻辑上类型一致（可以它们进行统一的处理）。利用`Array.prototype.slice.call(arguments)`来截取\n",
    "最普通的一个例子就是求和函数"
   ]
  },
  {
   "cell_type": "code",
   "execution_count": 2,
   "metadata": {},
   "outputs": [
    {
     "name": "stdout",
     "output_type": "stream",
     "text": [
      "结果: 6\n",
      "结果: 10\n"
     ]
    }
   ],
   "source": [
    "var { displayRes } = require('utils')\n",
    "\n",
    "function getRestArgs(a, b) {\n",
    "  var rest = Array.prototype.slice.call(arguments, 2)\n",
    "  \n",
    "  return rest\n",
    "}\n",
    "\n",
    "function sum(a, b) {\n",
    "  return [a, b].concat(getRestArgs(...arguments)).reduce((pre, curr) => pre + curr)\n",
    "}\n",
    "\n",
    "displayRes(sum(1, 2, 3))\n",
    "displayRes(sum(1, 2, 3, 4))"
   ]
  },
  {
   "cell_type": "markdown",
   "metadata": {},
   "source": [
    "## 参数默认值\n",
    "\n",
    "一些参数设计为非必选，同时为了方便调用，会给一些非必选参数设置默认值\n",
    "\n",
    "一些情况，使用`||`的短路特性来设置默认值会更方便"
   ]
  },
  {
   "cell_type": "code",
   "execution_count": 7,
   "metadata": {},
   "outputs": [
    {
     "name": "stdout",
     "output_type": "stream",
     "text": [
      "结果: [ 1, 5 ]\n",
      "结果: [ 1, 'defaultType' ]\n"
     ]
    }
   ],
   "source": [
    "var { displayRes } = require('utils')\n",
    "// 该函数支持两个参数，a我必选参数，b是有默认值的可选参数\n",
    "\n",
    "function func1 (a, b) {\n",
    "  if (a === void(0)) {\n",
    "    throw new Error('param a is required')\n",
    "  }\n",
    "  \n",
    "  // 给参数b设置默认值\n",
    "  if (b === void(0)) {\n",
    "    b = 5\n",
    "  }\n",
    "  // 也可以换个判断undefined的方式；也可以使用三元表达式设置默认值\n",
    "//   b = (typeof b !== 'undefined') ?  b : 1;\n",
    "  \n",
    "  return [a, b]\n",
    "}\n",
    "\n",
    "function func2 (a, type) {\n",
    "  if (a === void(0)) {\n",
    "    throw new Error('param a is required')\n",
    "  }\n",
    "  \n",
    "  // 给参数b设置默认值\n",
    "  type = type || 'defaultType'\n",
    "  \n",
    "  return [a, type]\n",
    "}\n",
    "\n",
    "displayRes(func1(1))\n",
    "displayRes(func2(1))"
   ]
  },
  {
   "cell_type": "markdown",
   "metadata": {},
   "source": [
    "## 参数类型检查\n",
    "\n",
    "根据传入参数的不同类型，应用不同的处理逻辑"
   ]
  },
  {
   "cell_type": "code",
   "execution_count": 15,
   "metadata": {},
   "outputs": [
    {
     "name": "stdout",
     "output_type": "stream",
     "text": [
      "结果: [ 'number', 1 ]\n",
      "结果: [ 'string', 3.1415 ]\n",
      "结果: 3\n"
     ]
    }
   ],
   "source": [
    "var { displayRes } = require('utils')\n",
    "\n",
    "function doSomething(param1) {\n",
    "  var type = typeof param1\n",
    "\n",
    "  switch (type) {\n",
    "    case 'number':\n",
    "      return ['number', param1]\n",
    "    case 'string':\n",
    "      return ['string', parseFloat(param1)]\n",
    "    case 'function':\n",
    "      return param1.apply(this, Array.prototype.slice.call(arguments, 1))\n",
    "    // ...\n",
    "  }\n",
    "}\n",
    "\n",
    "displayRes(doSomething(1))\n",
    "displayRes(doSomething('3.1415'))\n",
    "displayRes(doSomething((a, b) => a + b, 1, 2))"
   ]
  },
  {
   "cell_type": "markdown",
   "metadata": {},
   "source": [
    "## 柯里化\n",
    "\n",
    "[柯里化](./柯里化-curry.ipynb)"
   ]
  }
 ],
 "metadata": {
  "kernelspec": {
   "display_name": "Javascript (Node.js)",
   "language": "javascript",
   "name": "javascript"
  },
  "language_info": {
   "file_extension": ".js",
   "mimetype": "application/javascript",
   "name": "javascript",
   "version": "12.13.0"
  }
 },
 "nbformat": 4,
 "nbformat_minor": 4
}
