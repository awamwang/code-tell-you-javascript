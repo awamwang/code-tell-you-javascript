{
 "cells": [
  {
   "cell_type": "markdown",
   "metadata": {},
   "source": [
    "## 初始化相关变量"
   ]
  },
  {
   "cell_type": "code",
   "execution_count": 3,
   "metadata": {
    "tags": []
   },
   "outputs": [
    {
     "name": "stdout",
     "output_type": "stream",
     "text": [
      "true true\n",
      "true\n",
      "true\n",
      "true\n",
      "true\n",
      "true\n",
      "true true\n",
      "true\n",
      "true\n",
      "true\n",
      "true\n",
      "true\n",
      "true\n",
      "true\n",
      "{}\n"
     ]
    }
   ],
   "source": [
    "var num1 = 1\n",
    "var str1 = 'string'\n",
    "var bool1 = true\n",
    "var symbol1 = Symbol('xxx')\n",
    "var o = {}\n",
    "var o1 = Object.create(o)\n",
    "\n",
    "function func() {\n",
    "\n",
    "}\n",
    "\n",
    "function ClassA() {\n",
    "\n",
    "}\n",
    "ClassA.prototype = o1\n",
    "var c = new ClassA()\n",
    "\n",
    "console.log(num1.__proto__ === Number.prototype, Object.getPrototypeOf(num1) === Number.prototype)\n",
    "console.log(str1.__proto__ === String.prototype)\n",
    "console.log(bool1.__proto__ === Boolean.prototype)\n",
    "console.log(symbol1.__proto__ === Symbol.prototype)\n",
    "console.log(o.__proto__ === Object.prototype)\n",
    "console.log(func.__proto__ === Function.prototype)\n",
    "console.log(c.__proto__ === ClassA.prototype, c.__proto__ === o1)\n",
    "// 特殊\n",
    "console.log(o1.__proto__ === o)\n",
    "console.log(Object.prototype.__proto__ === null)\n",
    "\n",
    "// 原生构造函数的原型\n",
    "console.log(Number.__proto__ === Function.prototype)\n",
    "console.log(String.__proto__ === Function.prototype)\n",
    "console.log(Boolean.__proto__ === Function.prototype)\n",
    "console.log(Symbol.__proto__ === Function.prototype)\n",
    "console.log(Function.prototype === Function.__proto__)\n",
    "\n",
    "console.log(Object.prototype)\n"
   ]
  },
  {
   "cell_type": "code",
   "execution_count": null,
   "metadata": {},
   "outputs": [],
   "source": [
    "console.log(num1.__proto__ === Number.prototype num1.__proto__ === Number.prototype)\n",
    "Object.getPrototypeOf(num1) === Number.prototypenum1.__proto__ === Number.prototype\n",
    "Object.getPrototypeOf(num1) === Number.prototype"
   ]
  }
 ],
 "metadata": {
  "kernelspec": {
   "display_name": "Javascript (Node.js)",
   "language": "javascript",
   "name": "javascript"
  },
  "language_info": {
   "file_extension": ".js",
   "mimetype": "application/javascript",
   "name": "javascript",
   "version": "3.7.1-final"
  }
 },
 "nbformat": 4,
 "nbformat_minor": 4
}