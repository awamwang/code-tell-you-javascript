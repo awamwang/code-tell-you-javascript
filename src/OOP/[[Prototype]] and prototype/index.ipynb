{
 "cells": [
  {
   "cell_type": "markdown",
   "metadata": {},
   "source": [
    "## 初始化相关变量"
   ]
  },
  {
   "cell_type": "code",
   "execution_count": 7,
   "metadata": {},
   "outputs": [],
   "source": [
    "var num1 = 1\n",
    "var str1 = 'string'\n",
    "var bool1 = true\n",
    "var symbol1 = Symbol('xxx')\n",
    "var o = {}\n",
    "var o1 = Object.create(o)\n",
    "\n",
    "function func() {\n",
    "\n",
    "}\n",
    "\n",
    "function ClassA() {\n",
    "\n",
    "}\n",
    "ClassA.prototype = o1\n",
    "var c = new ClassA()"
   ]
  },
  {
   "cell_type": "code",
   "execution_count": 2,
   "metadata": {
    "tags": []
   },
   "outputs": [
    {
     "output_type": "stream",
     "name": "stderr",
     "text": "18:18 - Property '__proto__' does not exist on type 'number'.\n19:18 - Property '__proto__' does not exist on type 'string'.\n20:19 - Property '__proto__' does not exist on type 'true'.\n21:21 - Property '__proto__' does not exist on type 'symbol'.\n23:18 - Property '__proto__' does not exist on type '() => void'.\n27:30 - Property '__proto__' does not exist on type 'Object'.\n30:20 - Property '__proto__' does not exist on type 'NumberConstructor'.\n31:20 - Property '__proto__' does not exist on type 'StringConstructor'.\n32:21 - Property '__proto__' does not exist on type 'BooleanConstructor'.\n33:20 - Property '__proto__' does not exist on type 'SymbolConstructor'.\n34:45 - Property '__proto__' does not exist on type 'FunctionConstructor'.\n"
    }
   ],
   "source": [
    "var num1 = 1\n",
    "var str1 = 'string'\n",
    "var bool1 = true\n",
    "var symbol1 = Symbol('xxx')\n",
    "var o = {}\n",
    "var o1 = Object.create(o)\n",
    "\n",
    "function func() {\n",
    "\n",
    "}\n",
    "\n",
    "function ClassA() {\n",
    "\n",
    "}\n",
    "ClassA.prototype = o1\n",
    "var c = new ClassA()\n",
    "\n",
    "console.log(num1.__proto__ === Number.prototype, Object.getPrototypeOf(num1) === Number.prototype)\n",
    "console.log(str1.__proto__ === String.prototype)\n",
    "console.log(bool1.__proto__ === Boolean.prototype)\n",
    "console.log(symbol1.__proto__ === Symbol.prototype)\n",
    "console.log(o.__proto__ === Object.prototype)\n",
    "console.log(func.__proto__ === Function.prototype)\n",
    "console.log(c.__proto__ === ClassA.prototype, c.__proto__ === o1)\n",
    "// 特殊\n",
    "console.log(o1.__proto__ === o)\n",
    "console.log(Object.prototype.__proto__ === null)\n",
    "\n",
    "// 原生构造函数的原型\n",
    "console.log(Number.__proto__ === Function.prototype)\n",
    "console.log(String.__proto__ === Function.prototype)\n",
    "console.log(Boolean.__proto__ === Function.prototype)\n",
    "console.log(Symbol.__proto__ === Function.prototype)\n",
    "console.log(Function.prototype === Function.__proto__)\n",
    "\n",
    "console.log(Object.prototype)\n"
   ]
  }
 ],
 "metadata": {
  "kernelspec": {
   "display_name": "JavaScript",
   "language": "javascript",
   "name": "jslab"
  },
  "language_info": {
   "name": "",
   "version": "3.7.1-final"
  }
 },
 "nbformat": 4,
 "nbformat_minor": 4
}