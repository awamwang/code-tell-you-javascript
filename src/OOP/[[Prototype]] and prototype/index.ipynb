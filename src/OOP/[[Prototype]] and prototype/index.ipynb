{
 "cells": [
  {
   "cell_type": "code",
   "execution_count": 4,
   "metadata": {},
   "outputs": [
    {
     "output_type": "error",
     "ename": "Error",
     "evalue": "Cannot find module './src/index'\nRequire stack:\n- C:\\Users\\Awam M Wang\\AppData\\Local\\Temp\\d3cf56bb-13df-421e-b7f7-3dd876c702a3\\[eval]",
     "traceback": [
      "internal/modules/cjs/loader.js:797",
      "    throw err;",
      "    ^",
      "",
      "Error: Cannot find module './src/index'",
      "Require stack:",
      "- C:\\Users\\Awam M Wang\\AppData\\Local\\Temp\\d3cf56bb-13df-421e-b7f7-3dd876c702a3\\[eval]",
      "    at Function.Module._resolveFilename (internal/modules/cjs/loader.js:794:15)",
      "    at Function.Module._load (internal/modules/cjs/loader.js:687:27)",
      "    at Module.require (internal/modules/cjs/loader.js:849:19)",
      "    at require (internal/modules/cjs/helpers.js:74:18)",
      "    at evalmachine.<anonymous>:1:16",
      "    at Script.runInThisContext (vm.js:116:20)",
      "    at Object.runInThisContext (vm.js:306:38)",
      "    at run ([eval]:1054:15)",
      "    at onRunRequest ([eval]:888:18)",
      "    at onMessage ([eval]:848:13)"
     ]
    }
   ],
   "source": [
    "var { show } = require('./src/index')"
   ]
  },
  {
   "cell_type": "markdown",
   "metadata": {},
   "source": [
    "## 初始化相关变量"
   ]
  },
  {
   "cell_type": "code",
   "execution_count": 3,
   "metadata": {
    "tags": []
   },
   "outputs": [
    {
     "name": "stdout",
     "output_type": "stream",
     "text": [
      "true true\n",
      "true\n",
      "true\n",
      "true\n",
      "true\n",
      "true\n",
      "true true\n",
      "true\n",
      "true\n",
      "true\n",
      "true\n",
      "true\n",
      "true\n",
      "true\n",
      "{}\n"
     ]
    }
   ],
   "source": [
    "var num1 = 1\n",
    "var str1 = 'string'\n",
    "var bool1 = true\n",
    "var symbol1 = Symbol('xxx')\n",
    "var o = {}\n",
    "var o1 = Object.create(o)\n",
    "\n",
    "function func() {\n",
    "\n",
    "}\n",
    "\n",
    "function ClassA() {\n",
    "\n",
    "}\n",
    "ClassA.prototype = o1\n",
    "var c = new ClassA()\n",
    "\n",
    "console.log(num1.__proto__ === Number.prototype, Object.getPrototypeOf(num1) === Number.prototype)\n",
    "console.log(str1.__proto__ === String.prototype)\n",
    "console.log(bool1.__proto__ === Boolean.prototype)\n",
    "console.log(symbol1.__proto__ === Symbol.prototype)\n",
    "console.log(o.__proto__ === Object.prototype)\n",
    "console.log(func.__proto__ === Function.prototype)\n",
    "console.log(c.__proto__ === ClassA.prototype, c.__proto__ === o1)\n",
    "// 特殊\n",
    "console.log(o1.__proto__ === o)\n",
    "console.log(Object.prototype.__proto__ === null)\n",
    "\n",
    "// 原生构造函数的原型\n",
    "console.log(Number.__proto__ === Function.prototype)\n",
    "console.log(String.__proto__ === Function.prototype)\n",
    "console.log(Boolean.__proto__ === Function.prototype)\n",
    "console.log(Symbol.__proto__ === Function.prototype)\n",
    "console.log(Function.prototype === Function.__proto__)\n",
    "\n",
    "console.log(Object.prototype)\n"
   ]
  },
  {
   "cell_type": "code",
   "execution_count": null,
   "metadata": {},
   "outputs": [],
   "source": [
    "show(num1.__proto__ === Number.prototype num1.__proto__ === Number.prototype)\n",
    "Object.getPrototypeOf(num1) === Number.prototypenum1.__proto__ === Number.prototype\n",
    "Object.getPrototypeOf(num1) === Number.prototype"
   ]
  }
 ],
 "metadata": {
  "kernelspec": {
   "display_name": "Javascript (Node.js)",
   "language": "javascript",
   "name": "javascript"
  },
  "language_info": {
   "file_extension": ".js",
   "mimetype": "application/javascript",
   "name": "javascript",
   "version": "3.7.1-final"
  }
 },
 "nbformat": 4,
 "nbformat_minor": 4
}