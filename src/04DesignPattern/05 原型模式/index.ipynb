{
 "metadata": {
  "language_info": {
   "codemirror_mode": {
    "name": "ipython",
    "version": 3
   },
   "file_extension": ".py",
   "mimetype": "text/x-python",
   "name": "python",
   "nbconvert_exporter": "python",
   "pygments_lexer": "ipython3",
   "version": "3.7.1-final"
  },
  "orig_nbformat": 2,
  "kernelspec": {
   "name": "javascript",
   "display_name": "Javascript (Node.js)"
  }
 },
 "nbformat": 4,
 "nbformat_minor": 2,
 "cells": [
  {
   "cell_type": "code",
   "execution_count": 2,
   "metadata": {},
   "outputs": [],
   "source": [
    "function prototypeExtend() {\n",
    "  var F = function() {},\n",
    "    i = 0,\n",
    "    len = arguments.length\n",
    "\n",
    "  for (; i < len; i++) {\n",
    "    for (var j in arguments[i]) {\n",
    "      F.prototype[j] = arguments[i][j]\n",
    "    }\n",
    "  }\n",
    "\n",
    "  return new F()\n",
    "}\n",
    "\n",
    "var o = prototypeExtend({\n",
    "  a: '1',\n",
    "  b: '2',\n",
    "  func1() {\n",
    "    return 'run func1'\n",
    "  }\n",
    "}, {\n",
    "  c: '3'\n",
    "}, {\n",
    "  func2() {\n",
    "    return 'run func2'\n",
    "  }\n",
    "})"
   ]
  },
  {
   "cell_type": "code",
   "execution_count": 3,
   "metadata": {
    "tags": []
   },
   "outputs": [
    {
     "output_type": "stream",
     "name": "stdout",
     "text": "1 2 3\nrun func1 run func2\n"
    }
   ],
   "source": [
    "console.log(o.a, o.b, o.c)\n",
    "console.log(o.func1(), o.func2())"
   ]
  }
 ]
}