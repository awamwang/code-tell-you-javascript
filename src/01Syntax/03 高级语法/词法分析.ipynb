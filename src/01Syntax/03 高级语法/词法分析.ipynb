{
 "cells": [
  {
   "cell_type": "markdown",
   "metadata": {},
   "source": [
    "# 词法分析"
   ]
  },
  {
   "cell_type": "code",
   "execution_count": 1,
   "metadata": {},
   "outputs": [
    {
     "name": "stdout",
     "output_type": "stream",
     "text": [
      "arg的值 1 ，返回的函数中this.arg的值 undefined\n",
      "arg的值 2 ，返回的函数中this.arg的值 global new\n",
      "arg的值 1 ，返回的函数中this.arg的值 in obj\n"
     ]
    }
   ],
   "source": [
    "// 对于 声明 代码，是每次执行到才进行分析，并不是一次性分析一遍\n",
    "var a = 1\n",
    "function t(arg = a) {\n",
    "  return function() {\n",
    "    console.log('arg的值', arg, '，返回的函数中this.arg的值', this.arg)\n",
    "  }\n",
    "}\n",
    "var inner1 = t()\n",
    "a = 2\n",
    "var inner2 = t()\n",
    "inner1()    // 1，undefined —— 这个时候，arg是词法分析时保存的1；而this.arg是全局执行环境中的arg，为undefined\n",
    "\n",
    "var arg = 'global new'    // 这里虽然定义了arg，但不影响返回的inner1和inner2中的arg，这就是词法分析的静态性，与this不同\n",
    "inner2()    // 2 ，global new —— 两次arg变量得到的值不同，说明每次调用t时，都重新进行了词法分析\n",
    "\n",
    "var obj = {arg: 'in obj'}\n",
    "obj.f = inner1 // 这里把inner1函数挂在obj对象上，改变了它的执行环境\n",
    "obj.f() // 1，in obj —— 这里arg依然是1，因为inner1静态保存了词法分析结果；而this.arg是'in obj'，因为函数的执行环境变为对象obj了"
   ]
  }
 ],
 "metadata": {
  "kernelspec": {
   "display_name": "Javascript (Node.js)",
   "language": "javascript",
   "name": "javascript"
  },
  "language_info": {
   "file_extension": ".js",
   "mimetype": "application/javascript",
   "name": "javascript",
   "version": "12.18.1"
  }
 },
 "nbformat": 4,
 "nbformat_minor": 4
}
