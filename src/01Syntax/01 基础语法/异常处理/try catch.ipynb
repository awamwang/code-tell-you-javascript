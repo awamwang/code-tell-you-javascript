{
 "cells": [
  {
   "cell_type": "markdown",
   "metadata": {},
   "source": [
    "## try catch的返回值\n",
    "\n",
    "try-catch流程如同如同外部的正常代码，可以产生一个返回值。这个返回值可以是一个异常，可以在catch中把捕获到的异常向外抛出"
   ]
  },
  {
   "cell_type": "code",
   "execution_count": 6,
   "metadata": {},
   "outputs": [
    {
     "name": "stdout",
     "output_type": "stream",
     "text": [
      "结果: no error\n",
      "结果: Error: error\n",
      "    at tryNoCatch (evalmachine.<anonymous>:13:11)\n",
      "    at evalmachine.<anonymous>:30:12\n",
      "    at Script.runInThisContext (vm.js:116:20)\n",
      "    at Object.runInThisContext (vm.js:306:38)\n",
      "    at run ([eval]:1054:15)\n",
      "    at onRunRequest ([eval]:888:18)\n",
      "    at onMessage ([eval]:848:13)\n",
      "    at process.emit (events.js:210:5)\n",
      "    at emit (internal/child_process.js:876:12)\n",
      "    at processTicksAndRejections (internal/process/task_queues.js:81:21)\n",
      "结果: catched\n"
     ]
    }
   ],
   "source": [
    "var { displayRes } = require('utils')\n",
    "\n",
    "function tryNoError() {\n",
    "  try {\n",
    "    return 'no error'\n",
    "  } catch (e) {\n",
    "    return 'catched'\n",
    "  }\n",
    "}\n",
    "\n",
    "function tryNoCatch() {\n",
    "  try {\n",
    "    throw new Error('error')\n",
    "  } catch(e) {\n",
    "    // 可以用来分情况处理异常\n",
    "    if (e.message === 'error') {\n",
    "      return e\n",
    "    }\n",
    "  }\n",
    "}\n",
    "\n",
    "function tryCatched() {\n",
    "  try {\n",
    "    throw new Error('error')\n",
    "  } catch (e) {\n",
    "    return 'catched'\n",
    "  }\n",
    "}\n",
    "\n",
    "displayRes(tryNoError())\n",
    "displayRes(tryNoCatch())\n",
    "displayRes(tryCatched())"
   ]
  },
  {
   "cell_type": "markdown",
   "metadata": {},
   "source": [
    "### finally返回值\n",
    "\n",
    "如果finally块返回一个值，该值会是整个try-catch-finally流程的返回值"
   ]
  },
  {
   "cell_type": "code",
   "execution_count": 2,
   "metadata": {},
   "outputs": [
    {
     "name": "stdout",
     "output_type": "stream",
     "text": [
      "结果: finally\n"
     ]
    }
   ],
   "source": [
    "var { displayRes } = require('utils')\n",
    "\n",
    "function tryCatchedFinally() {\n",
    "  try {\n",
    "    throw new Error('error')\n",
    "  } catch (e) {\n",
    "    return 'catched'\n",
    "  } finally {\n",
    "    return 'finally'\n",
    "  }\n",
    "}\n",
    "\n",
    "displayRes(tryCatchedFinally())"
   ]
  }
 ],
 "metadata": {
  "kernelspec": {
   "display_name": "Javascript (Node.js)",
   "language": "javascript",
   "name": "javascript"
  },
  "language_info": {
   "file_extension": ".js",
   "mimetype": "application/javascript",
   "name": "javascript",
   "version": "12.13.0"
  }
 },
 "nbformat": 4,
 "nbformat_minor": 4
}
