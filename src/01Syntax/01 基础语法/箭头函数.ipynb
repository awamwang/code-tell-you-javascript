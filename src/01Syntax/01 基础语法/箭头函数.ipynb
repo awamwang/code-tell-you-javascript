{
 "cells": [
  {
   "cell_type": "markdown",
   "metadata": {},
   "source": [
    "# 箭头函数\n",
    "\n",
    "箭头函数的特点是继承它临近的作用域（即不创建单独的函数作用域）"
   ]
  },
  {
   "cell_type": "markdown",
   "metadata": {},
   "source": [
    "## 基础使用\n",
    "\n",
    "将箭头语法用在参数（回调函数）中，简洁清晰；尤其是在函数体是单行语句时，且能省略return关键字"
   ]
  },
  {
   "cell_type": "code",
   "execution_count": 1,
   "metadata": {},
   "outputs": [
    {
     "name": "stdout",
     "output_type": "stream",
     "text": [
      "[ 'Will', 'Peter', 'John', 'Mike' ]\n"
     ]
    }
   ],
   "source": [
    "let names = ['Will', 'Jack', 'Peter', 'Steve', 'John', 'Hugo', 'Mike'];\n",
    "\n",
    "let newSet = names.map((name, index) => {\n",
    "  return {\n",
    "    id: index,\n",
    "    name: name\n",
    "  };\n",
    "}).filter(man => man.id % 2 == 0)\n",
    ".map(man => [man.name])\n",
    ".reduce((a, b) => a.concat(b));\n",
    "\n",
    "console.log(newSet)"
   ]
  },
  {
   "cell_type": "markdown",
   "metadata": {},
   "source": [
    "## 作用域"
   ]
  },
  {
   "cell_type": "code",
   "execution_count": null,
   "metadata": {},
   "outputs": [],
   "source": []
  }
 ],
 "metadata": {
  "kernelspec": {
   "display_name": "Javascript (Node.js)",
   "language": "javascript",
   "name": "javascript"
  },
  "language_info": {
   "file_extension": ".js",
   "mimetype": "application/javascript",
   "name": "javascript",
   "version": "12.18.1"
  }
 },
 "nbformat": 4,
 "nbformat_minor": 4
}
