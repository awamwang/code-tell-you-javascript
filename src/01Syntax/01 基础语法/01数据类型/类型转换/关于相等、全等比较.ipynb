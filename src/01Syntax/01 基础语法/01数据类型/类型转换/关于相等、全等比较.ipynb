{
 "cells": [
  {
   "cell_type": "code",
   "execution_count": 1,
   "metadata": {},
   "outputs": [
    {
     "name": "stdout",
     "output_type": "stream",
     "text": [
      "相等比较 true\n",
      "全等比较 false\n"
     ]
    }
   ],
   "source": [
    "var a = []\n",
    "\n",
    "console.log('相等比较', !a == a)\n",
    "console.log('全等比较', !a === a)"
   ]
  }
 ],
 "metadata": {
  "kernelspec": {
   "display_name": "Javascript (Node.js)",
   "language": "javascript",
   "name": "javascript"
  },
  "language_info": {
   "file_extension": ".js",
   "mimetype": "application/javascript",
   "name": "javascript",
   "version": "12.18.1"
  }
 },
 "nbformat": 4,
 "nbformat_minor": 4
}
