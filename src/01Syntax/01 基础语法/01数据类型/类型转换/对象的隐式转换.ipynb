{
 "cells": [
  {
   "cell_type": "markdown",
   "metadata": {},
   "source": [
    "参考 [JS双等号比较符作用细节](https://wintc.top/article/50)"
   ]
  },
  {
   "cell_type": "code",
   "execution_count": 1,
   "metadata": {},
   "outputs": [
    {
     "name": "stdout",
     "output_type": "stream",
     "text": [
      "结果: true false\n",
      "结果: false false false\n",
      "结果: false true\n",
      "结果: Cannot convert object to primitive value\n"
     ]
    }
   ],
   "source": [
    "var { displayRes } = require('utils')\n",
    "\n",
    "var a = {}\n",
    "a.valueOf = () => 1\n",
    "a.toString = () => 2\n",
    "displayRes(a == 1, a == 2) // true, false\n",
    "\n",
    "var b = {}\n",
    "b.valueOf = () => null // 优先级高于toString，比较直接返回false\n",
    "b.toString = () => '1'\n",
    "displayRes(b == 'null', b == 1, b == '1') // false, false, false\n",
    "\n",
    "var c = {}\n",
    "c.valueOf = () => ([]) // 返回非基本值，将尝试取toString比较\n",
    "c.toString = () => '1'\n",
    "displayRes(c == 'undefined', c == '1') // false, true\n",
    "\n",
    "var d = {}\n",
    "d.valueOf = () => ([]) // 返回非基本值\n",
    "d.toString = () => ([])\n",
    "try {\n",
    "  displayRes(d == 'undefined', d == '1') // 比较报错：不能转为原始值\n",
    "} catch(err) {\n",
    "  displayRes(err.message)\n",
    "}"
   ]
  },
  {
   "cell_type": "code",
   "execution_count": 2,
   "metadata": {},
   "outputs": [
    {
     "name": "stdout",
     "output_type": "stream",
     "text": [
      "结果: false false true false false\n"
     ]
    }
   ],
   "source": [
    "var { displayRes } = require('utils')\n",
    "\n",
    "var a = {}\n",
    "a[Symbol.toPrimitive] = (hint) => {\n",
    "    if (hint == 'number') return 1\n",
    "    if (hint == 'string') return 2\n",
    "    return 3\n",
    "}\n",
    "a.valueOf = () => 4\n",
    "a.toString = () => 5\n",
    "displayRes(a == 1, a == 2, a == 3, a == 4, a == 5) // false, false, true, false, false"
   ]
  }
 ],
 "metadata": {
  "kernelspec": {
   "display_name": "Javascript (Node.js)",
   "language": "javascript",
   "name": "javascript"
  },
  "language_info": {
   "file_extension": ".js",
   "mimetype": "application/javascript",
   "name": "javascript",
   "version": "12.18.1"
  }
 },
 "nbformat": 4,
 "nbformat_minor": 4
}
