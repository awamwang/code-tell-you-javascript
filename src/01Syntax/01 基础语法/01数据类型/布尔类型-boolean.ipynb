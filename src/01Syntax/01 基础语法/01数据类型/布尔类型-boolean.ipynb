{
 "cells": [
  {
   "cell_type": "markdown",
   "metadata": {},
   "source": [
    "## Boolean构造函数"
   ]
  },
  {
   "cell_type": "code",
   "execution_count": 4,
   "metadata": {},
   "outputs": [
    {
     "name": "stdout",
     "output_type": "stream",
     "text": [
      "结果: b为真\n",
      "结果: b == true 为假\n",
      "结果: false\n",
      "结果: false\n"
     ]
    }
   ],
   "source": [
    "var {displayRes} = require('utils')\n",
    "\n",
    "var b = new Boolean(false);\n",
    "if (b) {\n",
    "  displayRes('b为真')\n",
    "}\n",
    "if (b == true) {\n",
    "  displayRes('b == true')\n",
    "} {\n",
    "  displayRes('b == true 为假')\n",
    "}\n",
    "displayRes(b === true)\n",
    "displayRes(b === false) // Boolean构造的对象与boolean类型字面量并不一样"
   ]
  }
 ],
 "metadata": {
  "kernelspec": {
   "display_name": "Javascript (Node.js)",
   "language": "javascript",
   "name": "javascript"
  },
  "language_info": {
   "file_extension": ".js",
   "mimetype": "application/javascript",
   "name": "javascript",
   "version": "12.13.0"
  }
 },
 "nbformat": 4,
 "nbformat_minor": 4
}
