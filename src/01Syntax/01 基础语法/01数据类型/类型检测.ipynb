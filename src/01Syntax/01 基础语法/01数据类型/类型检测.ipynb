{
 "cells": [
  {
   "cell_type": "markdown",
   "metadata": {},
   "source": [
    "## 基础类型检测\n",
    "\n",
    "使用`typeof`即可"
   ]
  },
  {
   "cell_type": "code",
   "execution_count": 4,
   "metadata": {},
   "outputs": [
    {
     "name": "stdout",
     "output_type": "stream",
     "text": [
      "结果: number\n",
      "结果: string\n",
      "结果: boolean\n",
      "结果: undefined\n",
      "结果: symbol\n",
      "结果: object\n"
     ]
    }
   ],
   "source": [
    "var { displayRes } = require('utils')\n",
    "\n",
    "displayRes(typeof 23) // \"number\"\n",
    "displayRes(typeof \"webpack\") // \"string\"\n",
    "displayRes(typeof true) // \"boolean\"\n",
    "displayResb(typeof undefined)  // \"undefined\"\n",
    "displayRes(typeof Symbol('symbol'))  // \"symbol\"\n",
    "// null的类型是个历史遗留问题\n",
    "displayRes(typeof null) // \"object\""
   ]
  },
  {
   "cell_type": "markdown",
   "metadata": {},
   "source": [
    "## 对象类型"
   ]
  },
  {
   "cell_type": "code",
   "execution_count": 7,
   "metadata": {},
   "outputs": [
    {
     "name": "stdout",
     "output_type": "stream",
     "text": [
      "结果: true\n",
      "结果: true\n"
     ]
    }
   ],
   "source": [
    "var { displayRes } = require('utils')\n",
    "\n",
    "displayRes({} instanceof Object)\n",
    "displayRes(new Set([1, 2, 1]) instanceof Set)"
   ]
  },
  {
   "cell_type": "markdown",
   "metadata": {},
   "source": [
    "## 通用方法\n",
    "\n",
    "`Object.prototype.toString.call`可以返回一个能标志数据类型的字符串，是公认的较为通用的数据类型检测方式"
   ]
  },
  {
   "cell_type": "code",
   "execution_count": 12,
   "metadata": {},
   "outputs": [
    {
     "name": "stdout",
     "output_type": "stream",
     "text": [
      "结果: [object Number]\n",
      "结果: [object Boolean]\n",
      "结果: [object String]\n",
      "结果: [object Null]\n",
      "结果: [object Undefined]\n",
      "结果: [object Symbol]\n",
      "结果: [object Object]\n",
      "结果: [object Array]\n",
      "结果: Number\n",
      "结果: String\n"
     ]
    }
   ],
   "source": [
    "var { displayRes } = require('utils')\n",
    "\n",
    "displayRes(Object.prototype.toString.call(1))\n",
    "displayRes(Object.prototype.toString.call(true))\n",
    "displayRes(Object.prototype.toString.call('str'))\n",
    "displayRes(Object.prototype.toString.call(null))\n",
    "displayRes(Object.prototype.toString.call(undefined))\n",
    "displayRes(Object.prototype.toString.call(Symbol('symbol')))\n",
    "displayRes(Object.prototype.toString.call({}))\n",
    "displayRes(Object.prototype.toString.call([1, 2]))\n",
    "\n",
    "// 可以封装一下\n",
    "function getType(value){\n",
    "  return Object.prototype.toString.call(value).match(/\\s{1}(\\w+)/)[1];\n",
    "}\n",
    "\n",
    "displayRes(getType(123))\n",
    "displayRes(getType('123'))"
   ]
  },
  {
   "cell_type": "markdown",
   "metadata": {},
   "source": [
    "## 构造函数检测\n",
    "\n",
    "可以检测`.prototype.constructor`属性，判断一个实例是否来自某个构造函数。\n",
    "\n",
    "> 这个方法在两种情况会出现错误：\n",
    "> 1. constructor属性被错误修改过 \n",
    "> 2. 多实例"
   ]
  },
  {
   "cell_type": "markdown",
   "metadata": {},
   "source": [
    "## 新方法\n",
    "\n",
    "新添加的用来检测数据类型的方法\n",
    "Array.isArray"
   ]
  }
 ],
 "metadata": {
  "kernelspec": {
   "display_name": "Javascript (Node.js)",
   "language": "javascript",
   "name": "javascript"
  },
  "language_info": {
   "file_extension": ".js",
   "mimetype": "application/javascript",
   "name": "javascript",
   "version": "12.13.0"
  }
 },
 "nbformat": 4,
 "nbformat_minor": 4
}
