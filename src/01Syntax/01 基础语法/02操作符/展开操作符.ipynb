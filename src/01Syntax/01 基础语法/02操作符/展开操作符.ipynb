{
 "cells": [
  {
   "cell_type": "markdown",
   "metadata": {},
   "source": [
    "## 概述\n",
    "\n",
    "- 将一个结构中的元素展开，获取一组临时的元素\n",
    "- 要赋值到匹配的结构中，例如数组，对象，函数参数"
   ]
  },
  {
   "cell_type": "code",
   "execution_count": 4,
   "metadata": {},
   "outputs": [
    {
     "name": "stdout",
     "output_type": "stream",
     "text": [
      "[ 0, 1, 2, 3, 4, 5 ]\n"
     ]
    }
   ],
   "source": [
    "var first = [1, 2];\n",
    "var second = [3, 4];\n",
    "var bothPlus = [0, ...first, ...second, 5];\n",
    "\n",
    "console.log(bothPlus)"
   ]
  },
  {
   "cell_type": "code",
   "execution_count": 5,
   "metadata": {},
   "outputs": [
    {
     "name": "stdout",
     "output_type": "stream",
     "text": [
      "{ food: 'rich', price: '$$', ambiance: 'noisy' }\n"
     ]
    }
   ],
   "source": [
    "let defaults = { food: \"spicy\", price: \"$$\", ambiance: \"noisy\" };\n",
    "let search = { ...defaults, food: \"rich\" };\n",
    "\n",
    "console.log(search)"
   ]
  },
  {
   "cell_type": "markdown",
   "metadata": {},
   "source": [
    "## 扩展\n",
    "\n",
    "将数组元素展开赋值给对象，将会产生\"数组字符串\"为key的属性"
   ]
  },
  {
   "cell_type": "code",
   "execution_count": 2,
   "metadata": {},
   "outputs": [
    {
     "name": "stdout",
     "output_type": "stream",
     "text": [
      "{ '0': 0, '1': 1, c: 3 }\n"
     ]
    }
   ],
   "source": [
    "var a = [0 , 1]\n",
    "console.log({ c: 3, ...a })"
   ]
  },
  {
   "cell_type": "markdown",
   "metadata": {},
   "source": [
    "## 注意\n",
    "\n",
    "仅包含对象[自身的可枚举属性](https://developer.mozilla.org/en-US/docs/Web/JavaScript/Enumerability_and_ownership_of_properties)的属性——方法会丢，继承的属性会丢"
   ]
  },
  {
   "cell_type": "code",
   "execution_count": 1,
   "metadata": {},
   "outputs": [
    {
     "name": "stdout",
     "output_type": "stream",
     "text": [
      "{ p: 12 }\n"
     ]
    },
    {
     "ename": "TypeError",
     "evalue": "clone.m is not a function",
     "execution_count": 1,
     "output_type": "error",
     "traceback": [
      "evalmachine.<anonymous>:11",
      "clone.m(); // error!",
      "      ^",
      "",
      "TypeError: clone.m is not a function",
      "    at evalmachine.<anonymous>:11:7",
      "    at Script.runInThisContext (vm.js:120:20)",
      "    at Object.runInThisContext (vm.js:311:38)",
      "    at run ([eval]:1054:15)",
      "    at onRunRequest ([eval]:888:18)",
      "    at onMessage ([eval]:848:13)",
      "    at process.emit (events.js:315:20)",
      "    at emit (internal/child_process.js:876:12)",
      "    at processTicksAndRejections (internal/process/task_queues.js:85:21)"
     ]
    }
   ],
   "source": [
    "class C {\n",
    "  p = 12;\n",
    "  m() {\n",
    "  }\n",
    "}\n",
    "let c = new C();\n",
    "let clone = { ...c };\n",
    "\n",
    "console.log(clone)\n",
    "clone.p; // ok\n",
    "clone.m(); // error!"
   ]
  }
 ],
 "metadata": {
  "kernelspec": {
   "display_name": "Javascript (Node.js)",
   "language": "javascript",
   "name": "javascript"
  },
  "language_info": {
   "file_extension": ".js",
   "mimetype": "application/javascript",
   "name": "javascript",
   "version": "12.18.1"
  }
 },
 "nbformat": 4,
 "nbformat_minor": 4
}
